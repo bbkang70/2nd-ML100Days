{
 "cells": [
  {
   "cell_type": "markdown",
   "metadata": {
    "colab_type": "text",
    "id": "g6DRMaYhBLuf"
   },
   "source": [
    "## Work\n",
    "1. 請比較使用不同層數以及不同 Dropout rate 對訓練的效果\n",
    "2. 將 optimizer 改成使用 Adam 並加上適當的 dropout rate 檢視結果"
   ]
  },
  {
   "cell_type": "code",
   "execution_count": 1,
   "metadata": {
    "colab": {
     "base_uri": "https://localhost:8080/",
     "height": 35
    },
    "colab_type": "code",
    "id": "CwjT9khwBLur",
    "outputId": "4c534ecc-1276-4ba5-bdda-db8acb85dc89"
   },
   "outputs": [
    {
     "name": "stderr",
     "output_type": "stream",
     "text": [
      "Using TensorFlow backend.\n"
     ]
    }
   ],
   "source": [
    "import os\n",
    "import keras\n",
    "import itertools\n",
    "# Disable GPU\n",
    "os.environ[\"CUDA_VISIBLE_DEVICES\"] = \"0\""
   ]
  },
  {
   "cell_type": "code",
   "execution_count": 2,
   "metadata": {
    "colab": {
     "base_uri": "https://localhost:8080/",
     "height": 52
    },
    "colab_type": "code",
    "id": "1srzm5TPBLu7",
    "outputId": "8c682a07-cdb6-4953-a139-7ee27248209d"
   },
   "outputs": [
    {
     "name": "stdout",
     "output_type": "stream",
     "text": [
      "Downloading data from https://www.cs.toronto.edu/~kriz/cifar-10-python.tar.gz\n",
      "170500096/170498071 [==============================] - 9s 0us/step\n"
     ]
    }
   ],
   "source": [
    "train, test = keras.datasets.cifar10.load_data()"
   ]
  },
  {
   "cell_type": "code",
   "execution_count": 0,
   "metadata": {
    "colab": {},
    "colab_type": "code",
    "id": "dvrPz4cMBLvK"
   },
   "outputs": [],
   "source": [
    "## 資料前處理\n",
    "def preproc_x(x, flatten=True):\n",
    "    x = x / 255.\n",
    "    if flatten:\n",
    "        x = x.reshape((len(x), -1))\n",
    "    return x\n",
    "\n",
    "def preproc_y(y, num_classes=10):\n",
    "    if y.shape[-1] == 1:\n",
    "        y = keras.utils.to_categorical(y, num_classes)\n",
    "    return y    "
   ]
  },
  {
   "cell_type": "code",
   "execution_count": 0,
   "metadata": {
    "colab": {},
    "colab_type": "code",
    "id": "lgrfmbIHBLvT"
   },
   "outputs": [],
   "source": [
    "x_train, y_train = train\n",
    "x_test, y_test = test\n",
    "\n",
    "# Preproc the inputs\n",
    "x_train = preproc_x(x_train)\n",
    "x_test = preproc_x(x_test)\n",
    "\n",
    "# Preprc the outputs\n",
    "y_train = preproc_y(y_train)\n",
    "y_test = preproc_y(y_test)"
   ]
  },
  {
   "cell_type": "code",
   "execution_count": 0,
   "metadata": {
    "colab": {},
    "colab_type": "code",
    "id": "RStskJoyBLvg"
   },
   "outputs": [],
   "source": [
    "from keras.layers import Dropout\n",
    "\n",
    "\"\"\"\n",
    "建立神經網路，並加入 dropout layer\n",
    "\"\"\"\n",
    "def build_mlp(input_shape, output_units=10, num_neurons=[512, 256, 128], drp_ratio=0.2):\n",
    "    input_layer = keras.layers.Input(input_shape)\n",
    "    \n",
    "    for i, n_units in enumerate(num_neurons):\n",
    "        if i == 0:\n",
    "            x = keras.layers.Dense(units=n_units, \n",
    "                                   activation=\"relu\", \n",
    "                                   name=\"hidden_layer\"+str(i+1))(input_layer)\n",
    "            x = Dropout(drp_ratio)(x)\n",
    "        else:\n",
    "            x = keras.layers.Dense(units=n_units, \n",
    "                                   activation=\"relu\", \n",
    "                                   name=\"hidden_layer\"+str(i+1))(x)\n",
    "            x = Dropout(drp_ratio)(x)\n",
    "    \n",
    "    out = keras.layers.Dense(units=output_units, activation=\"softmax\", name=\"output\")(x)\n",
    "    \n",
    "    model = keras.models.Model(inputs=[input_layer], outputs=[out])\n",
    "    return model"
   ]
  },
  {
   "cell_type": "code",
   "execution_count": 0,
   "metadata": {
    "colab": {},
    "colab_type": "code",
    "id": "7kG1b3fkBLvs"
   },
   "outputs": [],
   "source": [
    "\"\"\"Code Here\n",
    "設定超參數\n",
    "\"\"\"\n",
    "\n",
    "LEARNING_RATE = 1e-3\n",
    "EPOCHS = 50\n",
    "BATCH_SIZE = 256\n",
    "MOMENTUM = 0.95\n",
    "Dropout_EXP = 0.15"
   ]
  },
  {
   "cell_type": "code",
   "execution_count": 7,
   "metadata": {
    "colab": {
     "base_uri": "https://localhost:8080/",
     "height": 1000
    },
    "colab_type": "code",
    "id": "OkOIZEoKBLv3",
    "outputId": "6f8dcbd4-3f43-42e2-f386-40e0332f45f7",
    "scrolled": true
   },
   "outputs": [
    {
     "name": "stderr",
     "output_type": "stream",
     "text": [
      "WARNING: Logging before flag parsing goes to stderr.\n",
      "W0722 12:54:53.227039 140456335144832 deprecation_wrapper.py:119] From /usr/local/lib/python3.6/dist-packages/keras/backend/tensorflow_backend.py:74: The name tf.get_default_graph is deprecated. Please use tf.compat.v1.get_default_graph instead.\n",
      "\n",
      "W0722 12:54:53.261900 140456335144832 deprecation_wrapper.py:119] From /usr/local/lib/python3.6/dist-packages/keras/backend/tensorflow_backend.py:517: The name tf.placeholder is deprecated. Please use tf.compat.v1.placeholder instead.\n",
      "\n",
      "W0722 12:54:53.269620 140456335144832 deprecation_wrapper.py:119] From /usr/local/lib/python3.6/dist-packages/keras/backend/tensorflow_backend.py:4138: The name tf.random_uniform is deprecated. Please use tf.random.uniform instead.\n",
      "\n",
      "W0722 12:54:53.286615 140456335144832 deprecation_wrapper.py:119] From /usr/local/lib/python3.6/dist-packages/keras/backend/tensorflow_backend.py:133: The name tf.placeholder_with_default is deprecated. Please use tf.compat.v1.placeholder_with_default instead.\n",
      "\n",
      "W0722 12:54:53.295254 140456335144832 deprecation.py:506] From /usr/local/lib/python3.6/dist-packages/keras/backend/tensorflow_backend.py:3445: calling dropout (from tensorflow.python.ops.nn_ops) with keep_prob is deprecated and will be removed in a future version.\n",
      "Instructions for updating:\n",
      "Please use `rate` instead of `keep_prob`. Rate should be set to `rate = 1 - keep_prob`.\n",
      "W0722 12:54:53.387633 140456335144832 deprecation_wrapper.py:119] From /usr/local/lib/python3.6/dist-packages/keras/optimizers.py:790: The name tf.train.Optimizer is deprecated. Please use tf.compat.v1.train.Optimizer instead.\n",
      "\n",
      "W0722 12:54:53.398962 140456335144832 deprecation_wrapper.py:119] From /usr/local/lib/python3.6/dist-packages/keras/backend/tensorflow_backend.py:3295: The name tf.log is deprecated. Please use tf.math.log instead.\n",
      "\n",
      "W0722 12:54:53.503566 140456335144832 deprecation.py:323] From /usr/local/lib/python3.6/dist-packages/tensorflow/python/ops/math_grad.py:1250: add_dispatch_support.<locals>.wrapper (from tensorflow.python.ops.array_ops) is deprecated and will be removed in a future version.\n",
      "Instructions for updating:\n",
      "Use tf.where in 2.0, which has the same broadcast rule as np.where\n"
     ]
    },
    {
     "name": "stdout",
     "output_type": "stream",
     "text": [
      "_________________________________________________________________\n",
      "Layer (type)                 Output Shape              Param #   \n",
      "=================================================================\n",
      "input_1 (InputLayer)         (None, 3072)              0         \n",
      "_________________________________________________________________\n",
      "hidden_layer1 (Dense)        (None, 512)               1573376   \n",
      "_________________________________________________________________\n",
      "dropout_1 (Dropout)          (None, 512)               0         \n",
      "_________________________________________________________________\n",
      "hidden_layer2 (Dense)        (None, 256)               131328    \n",
      "_________________________________________________________________\n",
      "dropout_2 (Dropout)          (None, 256)               0         \n",
      "_________________________________________________________________\n",
      "hidden_layer3 (Dense)        (None, 128)               32896     \n",
      "_________________________________________________________________\n",
      "dropout_3 (Dropout)          (None, 128)               0         \n",
      "_________________________________________________________________\n",
      "output (Dense)               (None, 10)                1290      \n",
      "=================================================================\n",
      "Total params: 1,738,890\n",
      "Trainable params: 1,738,890\n",
      "Non-trainable params: 0\n",
      "_________________________________________________________________\n",
      "Train on 50000 samples, validate on 10000 samples\n",
      "Epoch 1/50\n",
      "50000/50000 [==============================] - 5s 103us/step - loss: 2.1338 - acc: 0.2117 - val_loss: 1.9289 - val_acc: 0.3236\n",
      "Epoch 2/50\n",
      "50000/50000 [==============================] - 2s 36us/step - loss: 1.9313 - acc: 0.3031 - val_loss: 1.8242 - val_acc: 0.3592\n",
      "Epoch 3/50\n",
      "50000/50000 [==============================] - 2s 36us/step - loss: 1.8493 - acc: 0.3381 - val_loss: 1.7567 - val_acc: 0.3786\n",
      "Epoch 4/50\n",
      "50000/50000 [==============================] - 2s 35us/step - loss: 1.7956 - acc: 0.3587 - val_loss: 1.7017 - val_acc: 0.4021\n",
      "Epoch 5/50\n",
      "50000/50000 [==============================] - 2s 37us/step - loss: 1.7498 - acc: 0.3747 - val_loss: 1.6661 - val_acc: 0.4100\n",
      "Epoch 6/50\n",
      "50000/50000 [==============================] - 2s 36us/step - loss: 1.7116 - acc: 0.3894 - val_loss: 1.6230 - val_acc: 0.4231\n",
      "Epoch 7/50\n",
      "50000/50000 [==============================] - 2s 36us/step - loss: 1.6784 - acc: 0.4031 - val_loss: 1.5984 - val_acc: 0.4345\n",
      "Epoch 8/50\n",
      "50000/50000 [==============================] - 2s 36us/step - loss: 1.6530 - acc: 0.4110 - val_loss: 1.5732 - val_acc: 0.4410\n",
      "Epoch 9/50\n",
      "50000/50000 [==============================] - 2s 36us/step - loss: 1.6274 - acc: 0.4222 - val_loss: 1.5572 - val_acc: 0.4456\n",
      "Epoch 10/50\n",
      "50000/50000 [==============================] - 2s 36us/step - loss: 1.6049 - acc: 0.4298 - val_loss: 1.5365 - val_acc: 0.4540\n",
      "Epoch 11/50\n",
      "50000/50000 [==============================] - 2s 35us/step - loss: 1.5850 - acc: 0.4354 - val_loss: 1.5170 - val_acc: 0.4584\n",
      "Epoch 12/50\n",
      "50000/50000 [==============================] - 2s 36us/step - loss: 1.5662 - acc: 0.4450 - val_loss: 1.5029 - val_acc: 0.4658\n",
      "Epoch 13/50\n",
      "50000/50000 [==============================] - 2s 36us/step - loss: 1.5488 - acc: 0.4498 - val_loss: 1.4865 - val_acc: 0.4716\n",
      "Epoch 14/50\n",
      "50000/50000 [==============================] - 2s 37us/step - loss: 1.5320 - acc: 0.4571 - val_loss: 1.4789 - val_acc: 0.4747\n",
      "Epoch 15/50\n",
      "50000/50000 [==============================] - 2s 36us/step - loss: 1.5159 - acc: 0.4597 - val_loss: 1.4685 - val_acc: 0.4761\n",
      "Epoch 16/50\n",
      "50000/50000 [==============================] - 2s 36us/step - loss: 1.5019 - acc: 0.4653 - val_loss: 1.4552 - val_acc: 0.4799\n",
      "Epoch 17/50\n",
      "50000/50000 [==============================] - 2s 36us/step - loss: 1.4877 - acc: 0.4732 - val_loss: 1.4412 - val_acc: 0.4899\n",
      "Epoch 18/50\n",
      "50000/50000 [==============================] - 2s 36us/step - loss: 1.4783 - acc: 0.4759 - val_loss: 1.4297 - val_acc: 0.4902\n",
      "Epoch 19/50\n",
      "50000/50000 [==============================] - 2s 36us/step - loss: 1.4596 - acc: 0.4810 - val_loss: 1.4161 - val_acc: 0.4964\n",
      "Epoch 20/50\n",
      "50000/50000 [==============================] - 2s 36us/step - loss: 1.4489 - acc: 0.4850 - val_loss: 1.4116 - val_acc: 0.4953\n",
      "Epoch 21/50\n",
      "50000/50000 [==============================] - 2s 36us/step - loss: 1.4372 - acc: 0.4913 - val_loss: 1.4160 - val_acc: 0.4914\n",
      "Epoch 22/50\n",
      "50000/50000 [==============================] - 2s 36us/step - loss: 1.4196 - acc: 0.4955 - val_loss: 1.3996 - val_acc: 0.4986\n",
      "Epoch 23/50\n",
      "50000/50000 [==============================] - 2s 36us/step - loss: 1.4123 - acc: 0.4992 - val_loss: 1.3990 - val_acc: 0.5048\n",
      "Epoch 24/50\n",
      "50000/50000 [==============================] - 2s 36us/step - loss: 1.3991 - acc: 0.5034 - val_loss: 1.3839 - val_acc: 0.5098\n",
      "Epoch 25/50\n",
      "50000/50000 [==============================] - 2s 36us/step - loss: 1.3893 - acc: 0.5046 - val_loss: 1.3745 - val_acc: 0.5099\n",
      "Epoch 26/50\n",
      "50000/50000 [==============================] - 2s 36us/step - loss: 1.3799 - acc: 0.5090 - val_loss: 1.3641 - val_acc: 0.5124\n",
      "Epoch 27/50\n",
      "50000/50000 [==============================] - 2s 36us/step - loss: 1.3658 - acc: 0.5138 - val_loss: 1.3753 - val_acc: 0.5088\n",
      "Epoch 28/50\n",
      "50000/50000 [==============================] - 2s 36us/step - loss: 1.3610 - acc: 0.5142 - val_loss: 1.3646 - val_acc: 0.5088\n",
      "Epoch 29/50\n",
      "50000/50000 [==============================] - 2s 35us/step - loss: 1.3496 - acc: 0.5210 - val_loss: 1.3594 - val_acc: 0.5127\n",
      "Epoch 30/50\n",
      "50000/50000 [==============================] - 2s 37us/step - loss: 1.3398 - acc: 0.5239 - val_loss: 1.3436 - val_acc: 0.5219\n",
      "Epoch 31/50\n",
      "50000/50000 [==============================] - 2s 36us/step - loss: 1.3268 - acc: 0.5276 - val_loss: 1.3356 - val_acc: 0.5220\n",
      "Epoch 32/50\n",
      "50000/50000 [==============================] - 2s 36us/step - loss: 1.3175 - acc: 0.5318 - val_loss: 1.3421 - val_acc: 0.5220\n",
      "Epoch 33/50\n",
      "50000/50000 [==============================] - 2s 36us/step - loss: 1.3111 - acc: 0.5325 - val_loss: 1.3305 - val_acc: 0.5266\n",
      "Epoch 34/50\n",
      "50000/50000 [==============================] - 2s 36us/step - loss: 1.3025 - acc: 0.5362 - val_loss: 1.3312 - val_acc: 0.5240\n",
      "Epoch 35/50\n",
      "50000/50000 [==============================] - 2s 36us/step - loss: 1.2868 - acc: 0.5405 - val_loss: 1.3252 - val_acc: 0.5228\n",
      "Epoch 36/50\n",
      "50000/50000 [==============================] - 2s 36us/step - loss: 1.2829 - acc: 0.5434 - val_loss: 1.3196 - val_acc: 0.5300\n",
      "Epoch 37/50\n",
      "50000/50000 [==============================] - 2s 35us/step - loss: 1.2701 - acc: 0.5474 - val_loss: 1.3142 - val_acc: 0.5321\n",
      "Epoch 38/50\n",
      "50000/50000 [==============================] - 2s 35us/step - loss: 1.2654 - acc: 0.5479 - val_loss: 1.3187 - val_acc: 0.5304\n",
      "Epoch 39/50\n",
      "50000/50000 [==============================] - 2s 34us/step - loss: 1.2580 - acc: 0.5513 - val_loss: 1.3155 - val_acc: 0.5316\n",
      "Epoch 40/50\n",
      "50000/50000 [==============================] - 2s 35us/step - loss: 1.2523 - acc: 0.5522 - val_loss: 1.3030 - val_acc: 0.5302\n",
      "Epoch 41/50\n",
      "50000/50000 [==============================] - 2s 35us/step - loss: 1.2439 - acc: 0.5549 - val_loss: 1.3005 - val_acc: 0.5328\n",
      "Epoch 42/50\n",
      "50000/50000 [==============================] - 2s 35us/step - loss: 1.2321 - acc: 0.5616 - val_loss: 1.2993 - val_acc: 0.5361\n",
      "Epoch 43/50\n",
      "50000/50000 [==============================] - 2s 35us/step - loss: 1.2275 - acc: 0.5596 - val_loss: 1.2992 - val_acc: 0.5339\n",
      "Epoch 44/50\n",
      "50000/50000 [==============================] - 2s 35us/step - loss: 1.2215 - acc: 0.5652 - val_loss: 1.2912 - val_acc: 0.5364\n",
      "Epoch 45/50\n",
      "50000/50000 [==============================] - 2s 35us/step - loss: 1.2099 - acc: 0.5685 - val_loss: 1.2840 - val_acc: 0.5419\n",
      "Epoch 46/50\n",
      "50000/50000 [==============================] - 2s 35us/step - loss: 1.1991 - acc: 0.5732 - val_loss: 1.2920 - val_acc: 0.5369\n",
      "Epoch 47/50\n",
      "50000/50000 [==============================] - 2s 35us/step - loss: 1.1988 - acc: 0.5737 - val_loss: 1.2864 - val_acc: 0.5384\n",
      "Epoch 48/50\n",
      "50000/50000 [==============================] - 2s 35us/step - loss: 1.1881 - acc: 0.5750 - val_loss: 1.2697 - val_acc: 0.5475\n",
      "Epoch 49/50\n",
      "50000/50000 [==============================] - 2s 35us/step - loss: 1.1789 - acc: 0.5804 - val_loss: 1.2799 - val_acc: 0.5430\n",
      "Epoch 50/50\n",
      "50000/50000 [==============================] - 2s 35us/step - loss: 1.1725 - acc: 0.5824 - val_loss: 1.2703 - val_acc: 0.5473\n"
     ]
    }
   ],
   "source": [
    "\n",
    "model = build_mlp(input_shape=x_train.shape[1:], drp_ratio=Dropout_EXP)\n",
    "model.summary()\n",
    "optimizer = keras.optimizers.SGD(lr=LEARNING_RATE, nesterov=True, momentum=MOMENTUM)\n",
    "model.compile(loss=\"categorical_crossentropy\", metrics=[\"accuracy\"], optimizer=optimizer)\n",
    "\n",
    "model.fit(x_train, y_train, \n",
    "          epochs=EPOCHS, \n",
    "          batch_size=BATCH_SIZE, \n",
    "          validation_data=(x_test, y_test), \n",
    "          shuffle=True)\n",
    "\n",
    "# Collect results\n",
    "train_loss = model.history.history[\"loss\"]\n",
    "valid_loss = model.history.history[\"val_loss\"]\n",
    "train_acc = model.history.history[\"acc\"]\n",
    "valid_acc = model.history.history[\"val_acc\"]"
   ]
  },
  {
   "cell_type": "code",
   "execution_count": 8,
   "metadata": {
    "colab": {
     "base_uri": "https://localhost:8080/",
     "height": 545
    },
    "colab_type": "code",
    "id": "t4YMCOxgBLwF",
    "outputId": "3e4abf5a-c2d3-4b35-e628-18245b695aaf"
   },
   "outputs": [
    {
     "data": {
      "image/png": "[encoded data removed]",
      "text/plain": [
       "<Figure size 432x288 with 1 Axes>"
      ]
     },
     "metadata": {
      "tags": []
     },
     "output_type": "display_data"
    },
    {
     "data": {
      "image/png": "[encoded data removed]",
      "text/plain": [
       "<Figure size 432x288 with 1 Axes>"
      ]
     },
     "metadata": {
      "tags": []
     },
     "output_type": "display_data"
    }
   ],
   "source": [
    "import matplotlib.pyplot as plt\n",
    "%matplotlib inline\n",
    "\n",
    "plt.plot(range(len(train_loss)), train_loss, label=\"train loss\")\n",
    "plt.plot(range(len(valid_loss)), valid_loss, label=\"valid loss\")\n",
    "plt.legend()\n",
    "plt.title(\"Loss\")\n",
    "plt.show()\n",
    "\n",
    "plt.plot(range(len(train_acc)), train_acc, label=\"train accuracy\")\n",
    "plt.plot(range(len(valid_acc)), valid_acc, label=\"valid accuracy\")\n",
    "plt.legend()\n",
    "plt.title(\"Accuracy\")\n",
    "plt.show()"
   ]
  },
  {
   "cell_type": "code",
   "execution_count": 9,
   "metadata": {
    "colab": {
     "base_uri": "https://localhost:8080/",
     "height": 1000
    },
    "colab_type": "code",
    "id": "uuY9v4tcw6Xy",
    "outputId": "37807a6e-2a52-45dc-9f63-79936432aa92"
   },
   "outputs": [
    {
     "name": "stdout",
     "output_type": "stream",
     "text": [
      "_________________________________________________________________\n",
      "Layer (type)                 Output Shape              Param #   \n",
      "=================================================================\n",
      "input_2 (InputLayer)         (None, 3072)              0         \n",
      "_________________________________________________________________\n",
      "hidden_layer1 (Dense)        (None, 512)               1573376   \n",
      "_________________________________________________________________\n",
      "dropout_4 (Dropout)          (None, 512)               0         \n",
      "_________________________________________________________________\n",
      "hidden_layer2 (Dense)        (None, 256)               131328    \n",
      "_________________________________________________________________\n",
      "dropout_5 (Dropout)          (None, 256)               0         \n",
      "_________________________________________________________________\n",
      "hidden_layer3 (Dense)        (None, 128)               32896     \n",
      "_________________________________________________________________\n",
      "dropout_6 (Dropout)          (None, 128)               0         \n",
      "_________________________________________________________________\n",
      "hidden_layer4 (Dense)        (None, 128)               16512     \n",
      "_________________________________________________________________\n",
      "dropout_7 (Dropout)          (None, 128)               0         \n",
      "_________________________________________________________________\n",
      "hidden_layer5 (Dense)        (None, 128)               16512     \n",
      "_________________________________________________________________\n",
      "dropout_8 (Dropout)          (None, 128)               0         \n",
      "_________________________________________________________________\n",
      "hidden_layer6 (Dense)        (None, 64)                8256      \n",
      "_________________________________________________________________\n",
      "dropout_9 (Dropout)          (None, 64)                0         \n",
      "_________________________________________________________________\n",
      "output (Dense)               (None, 10)                650       \n",
      "=================================================================\n",
      "Total params: 1,779,530\n",
      "Trainable params: 1,779,530\n",
      "Non-trainable params: 0\n",
      "_________________________________________________________________\n",
      "Train on 50000 samples, validate on 10000 samples\n",
      "Epoch 1/50\n",
      "50000/50000 [==============================] - 3s 50us/step - loss: 2.2715 - acc: 0.1324 - val_loss: 2.1524 - val_acc: 0.2240\n",
      "Epoch 2/50\n",
      "50000/50000 [==============================] - 2s 38us/step - loss: 2.1183 - acc: 0.1985 - val_loss: 1.9845 - val_acc: 0.2847\n",
      "Epoch 3/50\n",
      "50000/50000 [==============================] - 2s 37us/step - loss: 2.0121 - acc: 0.2464 - val_loss: 1.8968 - val_acc: 0.3209\n",
      "Epoch 4/50\n",
      "50000/50000 [==============================] - 2s 37us/step - loss: 1.9535 - acc: 0.2763 - val_loss: 1.8450 - val_acc: 0.3343\n",
      "Epoch 5/50\n",
      "50000/50000 [==============================] - 2s 37us/step - loss: 1.9068 - acc: 0.2967 - val_loss: 1.8006 - val_acc: 0.3538\n",
      "Epoch 6/50\n",
      "50000/50000 [==============================] - 2s 38us/step - loss: 1.8725 - acc: 0.3147 - val_loss: 1.7630 - val_acc: 0.3681\n",
      "Epoch 7/50\n",
      "50000/50000 [==============================] - 2s 38us/step - loss: 1.8418 - acc: 0.3237 - val_loss: 1.7242 - val_acc: 0.3775\n",
      "Epoch 8/50\n",
      "50000/50000 [==============================] - 2s 38us/step - loss: 1.8043 - acc: 0.3394 - val_loss: 1.6833 - val_acc: 0.3924\n",
      "Epoch 9/50\n",
      "50000/50000 [==============================] - 2s 37us/step - loss: 1.7735 - acc: 0.3535 - val_loss: 1.6571 - val_acc: 0.4033\n",
      "Epoch 10/50\n",
      "50000/50000 [==============================] - 2s 38us/step - loss: 1.7450 - acc: 0.3638 - val_loss: 1.6323 - val_acc: 0.4064\n",
      "Epoch 11/50\n",
      "50000/50000 [==============================] - 2s 38us/step - loss: 1.7214 - acc: 0.3748 - val_loss: 1.6146 - val_acc: 0.4192\n",
      "Epoch 12/50\n",
      "50000/50000 [==============================] - 2s 38us/step - loss: 1.6990 - acc: 0.3835 - val_loss: 1.5873 - val_acc: 0.4295\n",
      "Epoch 13/50\n",
      "50000/50000 [==============================] - 2s 37us/step - loss: 1.6747 - acc: 0.3918 - val_loss: 1.5617 - val_acc: 0.4359\n",
      "Epoch 14/50\n",
      "50000/50000 [==============================] - 2s 37us/step - loss: 1.6544 - acc: 0.4001 - val_loss: 1.5642 - val_acc: 0.4413\n",
      "Epoch 15/50\n",
      "50000/50000 [==============================] - 2s 37us/step - loss: 1.6362 - acc: 0.4095 - val_loss: 1.5371 - val_acc: 0.4492\n",
      "Epoch 16/50\n",
      "50000/50000 [==============================] - 2s 37us/step - loss: 1.6217 - acc: 0.4159 - val_loss: 1.5231 - val_acc: 0.4543\n",
      "Epoch 17/50\n",
      "50000/50000 [==============================] - 2s 38us/step - loss: 1.6023 - acc: 0.4236 - val_loss: 1.5125 - val_acc: 0.4614\n",
      "Epoch 18/50\n",
      "50000/50000 [==============================] - 2s 37us/step - loss: 1.5897 - acc: 0.4294 - val_loss: 1.5006 - val_acc: 0.4623\n",
      "Epoch 19/50\n",
      "50000/50000 [==============================] - 2s 38us/step - loss: 1.5719 - acc: 0.4328 - val_loss: 1.4886 - val_acc: 0.4658\n",
      "Epoch 20/50\n",
      "50000/50000 [==============================] - 2s 37us/step - loss: 1.5597 - acc: 0.4367 - val_loss: 1.4752 - val_acc: 0.4713\n",
      "Epoch 21/50\n",
      "50000/50000 [==============================] - 2s 37us/step - loss: 1.5460 - acc: 0.4416 - val_loss: 1.4679 - val_acc: 0.4774\n",
      "Epoch 22/50\n",
      "50000/50000 [==============================] - 2s 38us/step - loss: 1.5304 - acc: 0.4481 - val_loss: 1.4643 - val_acc: 0.4799\n",
      "Epoch 23/50\n",
      "50000/50000 [==============================] - 2s 38us/step - loss: 1.5203 - acc: 0.4511 - val_loss: 1.4651 - val_acc: 0.4775\n",
      "Epoch 24/50\n",
      "50000/50000 [==============================] - 2s 38us/step - loss: 1.5078 - acc: 0.4566 - val_loss: 1.4419 - val_acc: 0.4807\n",
      "Epoch 25/50\n",
      "50000/50000 [==============================] - 2s 38us/step - loss: 1.4987 - acc: 0.4601 - val_loss: 1.4378 - val_acc: 0.4908\n",
      "Epoch 26/50\n",
      "50000/50000 [==============================] - 2s 37us/step - loss: 1.4867 - acc: 0.4657 - val_loss: 1.4398 - val_acc: 0.4875\n",
      "Epoch 27/50\n",
      "50000/50000 [==============================] - 2s 37us/step - loss: 1.4773 - acc: 0.4713 - val_loss: 1.4316 - val_acc: 0.4869\n",
      "Epoch 28/50\n",
      "50000/50000 [==============================] - 2s 38us/step - loss: 1.4702 - acc: 0.4732 - val_loss: 1.4312 - val_acc: 0.4903\n",
      "Epoch 29/50\n",
      "50000/50000 [==============================] - 2s 37us/step - loss: 1.4628 - acc: 0.4743 - val_loss: 1.4205 - val_acc: 0.4952\n",
      "Epoch 30/50\n",
      "50000/50000 [==============================] - 2s 38us/step - loss: 1.4444 - acc: 0.4812 - val_loss: 1.4200 - val_acc: 0.4960\n",
      "Epoch 31/50\n",
      "50000/50000 [==============================] - 2s 38us/step - loss: 1.4363 - acc: 0.4861 - val_loss: 1.3977 - val_acc: 0.5043\n",
      "Epoch 32/50\n",
      "50000/50000 [==============================] - 2s 38us/step - loss: 1.4293 - acc: 0.4911 - val_loss: 1.3954 - val_acc: 0.5014\n",
      "Epoch 33/50\n",
      "50000/50000 [==============================] - 2s 38us/step - loss: 1.4205 - acc: 0.4917 - val_loss: 1.4007 - val_acc: 0.5009\n",
      "Epoch 34/50\n",
      "50000/50000 [==============================] - 2s 38us/step - loss: 1.4113 - acc: 0.4957 - val_loss: 1.3965 - val_acc: 0.4974\n",
      "Epoch 35/50\n",
      "50000/50000 [==============================] - 2s 38us/step - loss: 1.4049 - acc: 0.4976 - val_loss: 1.3940 - val_acc: 0.5029\n",
      "Epoch 36/50\n",
      "50000/50000 [==============================] - 2s 38us/step - loss: 1.3950 - acc: 0.5000 - val_loss: 1.3765 - val_acc: 0.5087\n",
      "Epoch 37/50\n",
      "50000/50000 [==============================] - 2s 37us/step - loss: 1.3892 - acc: 0.5030 - val_loss: 1.3811 - val_acc: 0.5007\n",
      "Epoch 38/50\n",
      "50000/50000 [==============================] - 2s 38us/step - loss: 1.3800 - acc: 0.5060 - val_loss: 1.3743 - val_acc: 0.5121\n",
      "Epoch 39/50\n",
      "50000/50000 [==============================] - 2s 37us/step - loss: 1.3776 - acc: 0.5075 - val_loss: 1.3685 - val_acc: 0.5125\n",
      "Epoch 40/50\n",
      "50000/50000 [==============================] - 2s 38us/step - loss: 1.3611 - acc: 0.5107 - val_loss: 1.3714 - val_acc: 0.5082\n",
      "Epoch 41/50\n",
      "50000/50000 [==============================] - 2s 38us/step - loss: 1.3613 - acc: 0.5121 - val_loss: 1.3660 - val_acc: 0.5174\n",
      "Epoch 42/50\n",
      "50000/50000 [==============================] - 2s 38us/step - loss: 1.3516 - acc: 0.5151 - val_loss: 1.3655 - val_acc: 0.5147\n",
      "Epoch 43/50\n",
      "50000/50000 [==============================] - 2s 39us/step - loss: 1.3408 - acc: 0.5199 - val_loss: 1.3616 - val_acc: 0.5183\n",
      "Epoch 44/50\n",
      "50000/50000 [==============================] - 2s 39us/step - loss: 1.3378 - acc: 0.5233 - val_loss: 1.3682 - val_acc: 0.5112\n",
      "Epoch 45/50\n",
      "50000/50000 [==============================] - 2s 39us/step - loss: 1.3242 - acc: 0.5263 - val_loss: 1.3698 - val_acc: 0.5088\n",
      "Epoch 46/50\n",
      "50000/50000 [==============================] - 2s 38us/step - loss: 1.3201 - acc: 0.5305 - val_loss: 1.3530 - val_acc: 0.5192\n",
      "Epoch 47/50\n",
      "50000/50000 [==============================] - 2s 38us/step - loss: 1.3203 - acc: 0.5273 - val_loss: 1.3545 - val_acc: 0.5243\n",
      "Epoch 48/50\n",
      "50000/50000 [==============================] - 2s 38us/step - loss: 1.3117 - acc: 0.5279 - val_loss: 1.3495 - val_acc: 0.5207\n",
      "Epoch 49/50\n",
      "50000/50000 [==============================] - 2s 38us/step - loss: 1.3027 - acc: 0.5339 - val_loss: 1.3461 - val_acc: 0.5261\n",
      "Epoch 50/50\n",
      "50000/50000 [==============================] - 2s 38us/step - loss: 1.2996 - acc: 0.5366 - val_loss: 1.3398 - val_acc: 0.5175\n"
     ]
    }
   ],
   "source": [
    "\n",
    "model = build_mlp(input_shape=x_train.shape[1:],num_neurons=[512, 256, 128, 128, 128, 64], drp_ratio=Dropout_EXP)\n",
    "model.summary()\n",
    "optimizer = keras.optimizers.SGD(lr=LEARNING_RATE, nesterov=True, momentum=MOMENTUM)\n",
    "model.compile(loss=\"categorical_crossentropy\", metrics=[\"accuracy\"], optimizer=optimizer)\n",
    "\n",
    "model.fit(x_train, y_train, \n",
    "          epochs=EPOCHS, \n",
    "          batch_size=BATCH_SIZE, \n",
    "          validation_data=(x_test, y_test), \n",
    "          shuffle=True)\n",
    "\n",
    "# Collect results\n",
    "train_loss = model.history.history[\"loss\"]\n",
    "valid_loss = model.history.history[\"val_loss\"]\n",
    "train_acc = model.history.history[\"acc\"]\n",
    "valid_acc = model.history.history[\"val_acc\"]"
   ]
  },
  {
   "cell_type": "code",
   "execution_count": 10,
   "metadata": {
    "colab": {
     "base_uri": "https://localhost:8080/",
     "height": 545
    },
    "colab_type": "code",
    "id": "TbTMkq6dxtEf",
    "outputId": "26bd00a9-1b94-4ae0-f18e-9503dbaa542b"
   },
   "outputs": [
    {
     "data": {
      "image/png": "[encoded data removed]",
      "text/plain": [
       "<Figure size 432x288 with 1 Axes>"
      ]
     },
     "metadata": {
      "tags": []
     },
     "output_type": "display_data"
    },
    {
     "data": {
      "image/png": "[encoded data removed]",
      "text/plain": [
       "<Figure size 432x288 with 1 Axes>"
      ]
     },
     "metadata": {
      "tags": []
     },
     "output_type": "display_data"
    }
   ],
   "source": [
    "import matplotlib.pyplot as plt\n",
    "%matplotlib inline\n",
    "\n",
    "plt.plot(range(len(train_loss)), train_loss, label=\"train loss\")\n",
    "plt.plot(range(len(valid_loss)), valid_loss, label=\"valid loss\")\n",
    "plt.legend()\n",
    "plt.title(\"Loss\")\n",
    "plt.show()\n",
    "\n",
    "plt.plot(range(len(train_acc)), train_acc, label=\"train accuracy\")\n",
    "plt.plot(range(len(valid_acc)), valid_acc, label=\"valid accuracy\")\n",
    "plt.legend()\n",
    "plt.title(\"Accuracy\")\n",
    "plt.show()"
   ]
  },
  {
   "cell_type": "code",
   "execution_count": 14,
   "metadata": {
    "colab": {
     "base_uri": "https://localhost:8080/",
     "height": 1000
    },
    "colab_type": "code",
    "id": "Al3KoH5Sxzdo",
    "outputId": "12232c98-26b5-4724-ca9c-08c92649a006"
   },
   "outputs": [
    {
     "name": "stdout",
     "output_type": "stream",
     "text": [
      "_________________________________________________________________\n",
      "Layer (type)                 Output Shape              Param #   \n",
      "=================================================================\n",
      "input_6 (InputLayer)         (None, 3072)              0         \n",
      "_________________________________________________________________\n",
      "hidden_layer1 (Dense)        (None, 512)               1573376   \n",
      "_________________________________________________________________\n",
      "dropout_19 (Dropout)         (None, 512)               0         \n",
      "_________________________________________________________________\n",
      "hidden_layer2 (Dense)        (None, 256)               131328    \n",
      "_________________________________________________________________\n",
      "dropout_20 (Dropout)         (None, 256)               0         \n",
      "_________________________________________________________________\n",
      "hidden_layer3 (Dense)        (None, 128)               32896     \n",
      "_________________________________________________________________\n",
      "dropout_21 (Dropout)         (None, 128)               0         \n",
      "_________________________________________________________________\n",
      "output (Dense)               (None, 10)                1290      \n",
      "=================================================================\n",
      "Total params: 1,738,890\n",
      "Trainable params: 1,738,890\n",
      "Non-trainable params: 0\n",
      "_________________________________________________________________\n",
      "Train on 50000 samples, validate on 10000 samples\n",
      "Epoch 1/50\n",
      "50000/50000 [==============================] - 3s 56us/step - loss: 2.0264 - acc: 0.2514 - val_loss: 1.8197 - val_acc: 0.3453\n",
      "Epoch 2/50\n",
      "50000/50000 [==============================] - 2s 41us/step - loss: 1.8145 - acc: 0.3456 - val_loss: 1.7470 - val_acc: 0.3707\n",
      "Epoch 3/50\n",
      "50000/50000 [==============================] - 2s 41us/step - loss: 1.7483 - acc: 0.3689 - val_loss: 1.6401 - val_acc: 0.4138\n",
      "Epoch 4/50\n",
      "50000/50000 [==============================] - 2s 40us/step - loss: 1.6920 - acc: 0.3916 - val_loss: 1.5897 - val_acc: 0.4318\n",
      "Epoch 5/50\n",
      "50000/50000 [==============================] - 2s 40us/step - loss: 1.6572 - acc: 0.4040 - val_loss: 1.5880 - val_acc: 0.4355\n",
      "Epoch 6/50\n",
      "50000/50000 [==============================] - 2s 39us/step - loss: 1.6302 - acc: 0.4125 - val_loss: 1.5638 - val_acc: 0.4361\n",
      "Epoch 7/50\n",
      "50000/50000 [==============================] - 2s 40us/step - loss: 1.6095 - acc: 0.4213 - val_loss: 1.5292 - val_acc: 0.4538\n",
      "Epoch 8/50\n",
      "50000/50000 [==============================] - 2s 41us/step - loss: 1.5856 - acc: 0.4297 - val_loss: 1.5110 - val_acc: 0.4671\n",
      "Epoch 9/50\n",
      "50000/50000 [==============================] - 2s 40us/step - loss: 1.5558 - acc: 0.4393 - val_loss: 1.5186 - val_acc: 0.4638\n",
      "Epoch 10/50\n",
      "50000/50000 [==============================] - 2s 41us/step - loss: 1.5468 - acc: 0.4448 - val_loss: 1.5195 - val_acc: 0.4560\n",
      "Epoch 11/50\n",
      "50000/50000 [==============================] - 2s 40us/step - loss: 1.5401 - acc: 0.4465 - val_loss: 1.4922 - val_acc: 0.4679\n",
      "Epoch 12/50\n",
      "50000/50000 [==============================] - 2s 39us/step - loss: 1.5241 - acc: 0.4516 - val_loss: 1.4825 - val_acc: 0.4654\n",
      "Epoch 13/50\n",
      "50000/50000 [==============================] - 2s 39us/step - loss: 1.5095 - acc: 0.4568 - val_loss: 1.4689 - val_acc: 0.4743\n",
      "Epoch 14/50\n",
      "50000/50000 [==============================] - 2s 40us/step - loss: 1.5098 - acc: 0.4575 - val_loss: 1.4754 - val_acc: 0.4749\n",
      "Epoch 15/50\n",
      "50000/50000 [==============================] - 2s 40us/step - loss: 1.4836 - acc: 0.4673 - val_loss: 1.4358 - val_acc: 0.4883\n",
      "Epoch 16/50\n",
      "50000/50000 [==============================] - 2s 40us/step - loss: 1.4659 - acc: 0.4715 - val_loss: 1.4269 - val_acc: 0.4891\n",
      "Epoch 17/50\n",
      "50000/50000 [==============================] - 2s 39us/step - loss: 1.4619 - acc: 0.4745 - val_loss: 1.4440 - val_acc: 0.4866\n",
      "Epoch 18/50\n",
      "50000/50000 [==============================] - 2s 39us/step - loss: 1.4508 - acc: 0.4780 - val_loss: 1.4279 - val_acc: 0.4883\n",
      "Epoch 19/50\n",
      "50000/50000 [==============================] - 2s 39us/step - loss: 1.4418 - acc: 0.4805 - val_loss: 1.4211 - val_acc: 0.4924\n",
      "Epoch 20/50\n",
      "50000/50000 [==============================] - 2s 39us/step - loss: 1.4288 - acc: 0.4862 - val_loss: 1.4239 - val_acc: 0.4936\n",
      "Epoch 21/50\n",
      "50000/50000 [==============================] - 2s 38us/step - loss: 1.4312 - acc: 0.4855 - val_loss: 1.4069 - val_acc: 0.4965\n",
      "Epoch 22/50\n",
      "50000/50000 [==============================] - 2s 39us/step - loss: 1.4132 - acc: 0.4916 - val_loss: 1.4095 - val_acc: 0.4987\n",
      "Epoch 23/50\n",
      "50000/50000 [==============================] - 2s 38us/step - loss: 1.4096 - acc: 0.4917 - val_loss: 1.3953 - val_acc: 0.5017\n",
      "Epoch 24/50\n",
      "50000/50000 [==============================] - 2s 38us/step - loss: 1.4041 - acc: 0.4967 - val_loss: 1.3871 - val_acc: 0.5026\n",
      "Epoch 25/50\n",
      "50000/50000 [==============================] - 2s 39us/step - loss: 1.3941 - acc: 0.4994 - val_loss: 1.3945 - val_acc: 0.5008\n",
      "Epoch 26/50\n",
      "50000/50000 [==============================] - 2s 38us/step - loss: 1.3877 - acc: 0.4990 - val_loss: 1.3729 - val_acc: 0.5109\n",
      "Epoch 27/50\n",
      "50000/50000 [==============================] - 2s 38us/step - loss: 1.3824 - acc: 0.5049 - val_loss: 1.3783 - val_acc: 0.5138\n",
      "Epoch 28/50\n",
      "50000/50000 [==============================] - 2s 38us/step - loss: 1.3758 - acc: 0.5056 - val_loss: 1.3900 - val_acc: 0.5072\n",
      "Epoch 29/50\n",
      "50000/50000 [==============================] - 2s 39us/step - loss: 1.3670 - acc: 0.5102 - val_loss: 1.3910 - val_acc: 0.5068\n",
      "Epoch 30/50\n",
      "50000/50000 [==============================] - 2s 39us/step - loss: 1.3617 - acc: 0.5087 - val_loss: 1.4113 - val_acc: 0.4995\n",
      "Epoch 31/50\n",
      "50000/50000 [==============================] - 2s 39us/step - loss: 1.3535 - acc: 0.5136 - val_loss: 1.3840 - val_acc: 0.5051\n",
      "Epoch 32/50\n",
      "50000/50000 [==============================] - 2s 39us/step - loss: 1.3520 - acc: 0.5160 - val_loss: 1.3746 - val_acc: 0.5150\n",
      "Epoch 33/50\n",
      "50000/50000 [==============================] - 2s 41us/step - loss: 1.3485 - acc: 0.5146 - val_loss: 1.3765 - val_acc: 0.5154\n",
      "Epoch 34/50\n",
      "50000/50000 [==============================] - 2s 40us/step - loss: 1.3474 - acc: 0.5176 - val_loss: 1.3607 - val_acc: 0.5099\n",
      "Epoch 35/50\n",
      "50000/50000 [==============================] - 2s 39us/step - loss: 1.3321 - acc: 0.5209 - val_loss: 1.3539 - val_acc: 0.5202\n",
      "Epoch 36/50\n",
      "50000/50000 [==============================] - 2s 38us/step - loss: 1.3300 - acc: 0.5230 - val_loss: 1.3687 - val_acc: 0.5120\n",
      "Epoch 37/50\n",
      "50000/50000 [==============================] - 2s 38us/step - loss: 1.3264 - acc: 0.5221 - val_loss: 1.4110 - val_acc: 0.5025\n",
      "Epoch 38/50\n",
      "50000/50000 [==============================] - 2s 38us/step - loss: 1.3299 - acc: 0.5223 - val_loss: 1.3623 - val_acc: 0.5178\n",
      "Epoch 39/50\n",
      "50000/50000 [==============================] - 2s 38us/step - loss: 1.3157 - acc: 0.5257 - val_loss: 1.3725 - val_acc: 0.5110\n",
      "Epoch 40/50\n",
      "50000/50000 [==============================] - 2s 38us/step - loss: 1.3189 - acc: 0.5255 - val_loss: 1.3513 - val_acc: 0.5216\n",
      "Epoch 41/50\n",
      "50000/50000 [==============================] - 2s 39us/step - loss: 1.3062 - acc: 0.5308 - val_loss: 1.3754 - val_acc: 0.5126\n",
      "Epoch 42/50\n",
      "50000/50000 [==============================] - 2s 38us/step - loss: 1.3036 - acc: 0.5305 - val_loss: 1.3525 - val_acc: 0.5230\n",
      "Epoch 43/50\n",
      "50000/50000 [==============================] - 2s 39us/step - loss: 1.3102 - acc: 0.5296 - val_loss: 1.3676 - val_acc: 0.5133\n",
      "Epoch 44/50\n",
      "50000/50000 [==============================] - 2s 38us/step - loss: 1.2944 - acc: 0.5350 - val_loss: 1.3433 - val_acc: 0.5270\n",
      "Epoch 45/50\n",
      "50000/50000 [==============================] - 2s 38us/step - loss: 1.2928 - acc: 0.5369 - val_loss: 1.3668 - val_acc: 0.5163\n",
      "Epoch 46/50\n",
      "50000/50000 [==============================] - 2s 38us/step - loss: 1.2845 - acc: 0.5407 - val_loss: 1.3500 - val_acc: 0.5241\n",
      "Epoch 47/50\n",
      "50000/50000 [==============================] - 2s 38us/step - loss: 1.2872 - acc: 0.5398 - val_loss: 1.3409 - val_acc: 0.5277\n",
      "Epoch 48/50\n",
      "50000/50000 [==============================] - 2s 38us/step - loss: 1.2754 - acc: 0.5438 - val_loss: 1.3666 - val_acc: 0.5127\n",
      "Epoch 49/50\n",
      "50000/50000 [==============================] - 2s 38us/step - loss: 1.2847 - acc: 0.5380 - val_loss: 1.3782 - val_acc: 0.5133\n",
      "Epoch 50/50\n",
      "50000/50000 [==============================] - 2s 38us/step - loss: 1.2732 - acc: 0.5417 - val_loss: 1.3344 - val_acc: 0.5273\n"
     ]
    }
   ],
   "source": [
    "model = build_mlp(input_shape=x_train.shape[1:], drp_ratio=Dropout_EXP)\n",
    "model.summary()\n",
    "optimizer = keras.optimizers.Adam(lr=LEARNING_RATE, beta_1=0.9, beta_2=0.999, epsilon=None, decay=0.0, amsgrad=False)\n",
    "model.compile(loss=\"categorical_crossentropy\", metrics=[\"accuracy\"], optimizer=optimizer)\n",
    "\n",
    "model.fit(x_train, y_train, \n",
    "          epochs=EPOCHS, \n",
    "          batch_size=BATCH_SIZE, \n",
    "          validation_data=(x_test, y_test), \n",
    "          shuffle=True)\n",
    "\n",
    "# Collect results\n",
    "train_loss = model.history.history[\"loss\"]\n",
    "valid_loss = model.history.history[\"val_loss\"]\n",
    "train_acc = model.history.history[\"acc\"]\n",
    "valid_acc = model.history.history[\"val_acc\"]"
   ]
  },
  {
   "cell_type": "code",
   "execution_count": 15,
   "metadata": {
    "colab": {
     "base_uri": "https://localhost:8080/",
     "height": 545
    },
    "colab_type": "code",
    "id": "C13iutBHx0L_",
    "outputId": "3ea48e5a-2739-4ba1-d963-24d5a6287ccc"
   },
   "outputs": [
    {
     "data": {
      "image/png": "[encoded data removed]",
      "text/plain": [
       "<Figure size 432x288 with 1 Axes>"
      ]
     },
     "metadata": {
      "tags": []
     },
     "output_type": "display_data"
    },
    {
     "data": {
      "image/png": "[encoded data removed]",
      "text/plain": [
       "<Figure size 432x288 with 1 Axes>"
      ]
     },
     "metadata": {
      "tags": []
     },
     "output_type": "display_data"
    }
   ],
   "source": [
    "import matplotlib.pyplot as plt\n",
    "%matplotlib inline\n",
    "\n",
    "plt.plot(range(len(train_loss)), train_loss, label=\"train loss\")\n",
    "plt.plot(range(len(valid_loss)), valid_loss, label=\"valid loss\")\n",
    "plt.legend()\n",
    "plt.title(\"Loss\")\n",
    "plt.show()\n",
    "\n",
    "plt.plot(range(len(train_acc)), train_acc, label=\"train accuracy\")\n",
    "plt.plot(range(len(valid_acc)), valid_acc, label=\"valid accuracy\")\n",
    "plt.legend()\n",
    "plt.title(\"Accuracy\")\n",
    "plt.show()"
   ]
  },
  {
   "cell_type": "code",
   "execution_count": 0,
   "metadata": {
    "colab": {},
    "colab_type": "code",
    "id": "A58Ns4hOxzXb"
   },
   "outputs": [],
   "source": []
  }
 ],
 "metadata": {
  "accelerator": "GPU",
  "colab": {
   "name": "Day082_HW.ipynb",
   "provenance": [],
   "version": "0.3.2"
  },
  "kernelspec": {
   "display_name": "Python 3",
   "language": "python",
   "name": "python3"
  },
  "language_info": {
   "codemirror_mode": {
    "name": "ipython",
    "version": 3
   },
   "file_extension": ".py",
   "mimetype": "text/x-python",
   "name": "python",
   "nbconvert_exporter": "python",
   "pygments_lexer": "ipython3",
   "version": "3.7.3"
  }
 },
 "nbformat": 4,
 "nbformat_minor": 1
}

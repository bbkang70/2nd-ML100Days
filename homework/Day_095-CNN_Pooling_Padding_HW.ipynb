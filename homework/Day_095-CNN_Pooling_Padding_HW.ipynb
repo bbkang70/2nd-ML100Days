{
 "cells": [
  {
   "cell_type": "markdown",
   "metadata": {},
   "source": [
    "# 作業目標:\n",
    "    了解 Padding 的作法\n",
    "    \n",
    "    了解 Pooling 的作法"
   ]
  },
  {
   "cell_type": "markdown",
   "metadata": {},
   "source": [
    "# 作業重點:\n",
    "    (1) 調整Padding 的設定, 看 Pad 後的結果\n",
    "    \n",
    "    (2) 調整Pooling 的設定, 看 Poolin 後的結果"
   ]
  },
  {
   "cell_type": "code",
   "execution_count": 1,
   "metadata": {},
   "outputs": [],
   "source": [
    "import numpy as np\n",
    "import h5py\n",
    "import matplotlib.pyplot as plt\n",
    "\n",
    "# 繪圖結果直接顯示在Jupyter cell 之內\n",
    "%matplotlib inline  \n",
    "plt.rcParams['figure.figsize'] = (5.0, 4.0) #  設定繪圖板的大小\n",
    "plt.rcParams['image.interpolation'] = 'nearest'\n",
    "plt.rcParams['image.cmap'] = 'gray'\n",
    "\n",
    "# autoreload。可以讓我們不退出IPython就動態修改代碼，在執行代碼前IPython會幫我們自動重載改動的模塊\n",
    "%load_ext autoreload\n",
    "%autoreload 2\n",
    "np.random.seed(1)"
   ]
  },
  {
   "cell_type": "code",
   "execution_count": 2,
   "metadata": {},
   "outputs": [],
   "source": [
    "# GRADED FUNCTION: zero_pad\n",
    "def zero_pad(X, pad):\n",
    "    \"\"\"\n",
    "    對image X 做 zero-padding. \n",
    "    參數定義如下:\n",
    "    X -- python numpy array, 呈現維度 (m, n_H, n_W, n_C), 代表一批 m 個圖像\n",
    "         n_H: 圖高, n_W: 圖寬, n_C: color channels 數\n",
    "    pad -- 整數, 加幾圈的 zero padding.\n",
    "    Returns:\n",
    "    X_pad -- image of shape (m, n_H + 2*pad, n_W + 2*pad, n_C) 做完zero-padding 的結果\n",
    "    \"\"\"\n",
    "    \n",
    "    X_pad = np.pad(X, ((0, 0), (pad, pad), (pad, pad), (0, 0)), 'constant', constant_values=(0, 0))\n",
    "  \n",
    "    return X_pad"
   ]
  },
  {
   "cell_type": "code",
   "execution_count": 12,
   "metadata": {},
   "outputs": [
    {
     "name": "stdout",
     "output_type": "stream",
     "text": [
      "x.shape = (6, 6, 5, 4)\n",
      "x_pad.shape = (6, 14, 13, 4)\n",
      "x[1,1] = [[-0.18656977 -0.10174587  0.86888616  0.75041164]\n",
      " [ 0.52946532  0.13770121  0.07782113  0.61838026]\n",
      " [ 0.23249456  0.68255141 -0.31011677 -2.43483776]\n",
      " [ 1.0388246   2.18697965  0.44136444 -0.10015523]\n",
      " [-0.13644474 -0.11905419  0.01740941 -1.12201873]]\n",
      "x_pad[1,1] = [[0. 0. 0. 0.]\n",
      " [0. 0. 0. 0.]\n",
      " [0. 0. 0. 0.]\n",
      " [0. 0. 0. 0.]\n",
      " [0. 0. 0. 0.]\n",
      " [0. 0. 0. 0.]\n",
      " [0. 0. 0. 0.]\n",
      " [0. 0. 0. 0.]\n",
      " [0. 0. 0. 0.]\n",
      " [0. 0. 0. 0.]\n",
      " [0. 0. 0. 0.]\n",
      " [0. 0. 0. 0.]\n",
      " [0. 0. 0. 0.]]\n"
     ]
    },
    {
     "data": {
      "text/plain": [
       "<matplotlib.image.AxesImage at 0x11a70bdd8>"
      ]
     },
     "execution_count": 12,
     "metadata": {},
     "output_type": "execute_result"
    },
    {
     "data": {
      "image/png": "[encoded data removed]",
      "text/plain": [
       "<Figure size 432x288 with 2 Axes>"
      ]
     },
     "metadata": {
      "needs_background": "light"
     },
     "output_type": "display_data"
    }
   ],
   "source": [
    "\n",
    "# 作業修改\n",
    "np.random.seed(1)\n",
    "\n",
    "x =  np.random.randn(6, 6, 5, 4) \n",
    "x_pad = zero_pad(x, 4)\n",
    "\n",
    "\n",
    "print (\"x.shape =\", x.shape)\n",
    "print (\"x_pad.shape =\", x_pad.shape)\n",
    "print (\"x[1,1] =\", x[1,1])\n",
    "print (\"x_pad[1,1] =\", x_pad[1,1])\n",
    "fig, axarr = plt.subplots(1, 2)\n",
    "axarr[0].set_title('x')\n",
    "axarr[0].imshow(x[0,:,:,0])\n",
    "axarr[1].set_title('x_pad')\n",
    "axarr[1].imshow(x_pad[0,:,:,0])"
   ]
  },
  {
   "cell_type": "code",
   "execution_count": 6,
   "metadata": {},
   "outputs": [],
   "source": [
    "# GRADED FUNCTION: pool_forward\n",
    "def pool_forward(A_prev, hparameters, mode = \"max\"):\n",
    "    \"\"\"\n",
    "    設計一個前行網路的池化層\n",
    "    參數定義如下:\n",
    "    A_prev -- 輸入的numpy 陣列, 維度 (m, n_H_prev, n_W_prev, n_C_prev)\n",
    "    hparameter 超參數 --  \"f\" and \"stride\" 所形成的python 字典\n",
    "    mode -- 池化的模式: \"max\" or \"average\"\n",
    "    \n",
    "    返回:\n",
    "        A -- 輸出的池化層, 維度為 (m, n_H, n_W, n_C) 的 numpy 陣列\n",
    "        cache -- 可以應用在 backward pass pooling layer 資料, 包含 input and hparameter\n",
    "    \"\"\"\n",
    "\n",
    "    # 檢索尺寸 from the input shape\n",
    "    (m, n_H_prev, n_W_prev, n_C_prev) = A_prev.shape\n",
    " \n",
    "    # 檢索超參數 from \"hparameters\"\n",
    "    f = hparameters[\"f\"]\n",
    "    stride = hparameters[\"stride\"]\n",
    "\n",
    "    # 定義輸出的dimensions\n",
    "    n_H = int(1 + (n_H_prev - f) / stride)\n",
    "    n_W = int(1 + (n_W_prev - f) / stride)\n",
    "    n_C = n_C_prev\n",
    "\n",
    "    # 初始化輸出的 matrix A\n",
    "    A = np.zeros((m, n_H, n_W, n_C))\n",
    "\n",
    "    ### 程式起始位置  ###\n",
    "    for i in range(m): # 訓練樣本的for 迴圈\n",
    "        for h in range(n_H): # 輸出樣本的for 迴圈, 針對vertical axis\n",
    "            for w in range(n_W): #  輸出樣本的for 迴圈, 針對 horizontal axis\n",
    "                for c in range (n_C): #  輸出樣本的for 迴圈, 針對channels\n",
    "\n",
    "                     # 找出特徵圖的寬度跟高度四個點\n",
    "                    vert_start = h * stride\n",
    "                    vert_end = h * stride+ f\n",
    "                    horiz_start = w * stride\n",
    "                    horiz_end = w * stride + f\n",
    "\n",
    "                    # 定義第i個訓練示例\n",
    "                    a_prev_slice = A_prev[i, vert_start:vert_end, horiz_start:horiz_end,c]\n",
    "\n",
    "                    # 計算輸入data 的池化結果. 使用 if statment 去做分類\n",
    "                    if mode == \"max\":\n",
    "                        A[i, h, w, c] = np.max(a_prev_slice)\n",
    "                    elif mode == \"average\":\n",
    "                        A[i, h, w, c] = np.mean(a_prev_slice)\n",
    "\n",
    "                        ### 程式結束  ###\n",
    "    \n",
    "    # 儲存輸入的特徵圖跟所設定的超參數, 可以用在 pool_backward()\n",
    "    cache = (A_prev, hparameters)\n",
    "    \n",
    "    # 確認輸出的資料維度\n",
    "    assert(A.shape == (m, n_H, n_W, n_C))\n",
    "    return A, cache"
   ]
  },
  {
   "cell_type": "code",
   "execution_count": 13,
   "metadata": {},
   "outputs": [
    {
     "name": "stdout",
     "output_type": "stream",
     "text": [
      "mode = max\n",
      "A = [[[[1.74481176 1.46210794 1.65980218]\n",
      "   [1.19891788 1.6924546  2.18557541]]\n",
      "\n",
      "  [[2.19069973 2.52832571 1.33145711]\n",
      "   [2.18697965 1.16033857 1.12948391]]]\n",
      "\n",
      "\n",
      " [[[2.44936865 1.93752881 1.95487808]\n",
      "   [2.44936865 2.05117344 1.9560789 ]]\n",
      "\n",
      "  [[2.06578332 1.54335911 3.03085711]\n",
      "   [2.06578332 2.13782807 1.83471763]]]\n",
      "\n",
      "\n",
      " [[[2.05635552 1.78975468 1.7653351 ]\n",
      "   [2.11060505 2.0546241  1.86647138]]\n",
      "\n",
      "  [[1.69380911 3.9586027  1.7653351 ]\n",
      "   [1.85300949 3.9586027  1.86647138]]]\n",
      "\n",
      "\n",
      " [[[1.91979229 1.74643509 2.50598029]\n",
      "   [1.91979229 1.74643509 2.50598029]]\n",
      "\n",
      "  [[3.32107876 1.57546791 2.50598029]\n",
      "   [3.32107876 1.70018815 2.50598029]]]]\n",
      "\n",
      "mode = average\n",
      "A = [[[[-0.08810656  0.11943302 -0.0815313 ]\n",
      "   [-0.14348932  0.3284768   0.05066501]]\n",
      "\n",
      "  [[ 0.26775926  0.01328743  0.06714905]\n",
      "   [ 0.03295525  0.28197244 -0.11166649]]]\n",
      "\n",
      "\n",
      " [[[ 0.06138653  0.08721295  0.11319698]\n",
      "   [-0.19410193 -0.27805138  0.28664871]]\n",
      "\n",
      "  [[ 0.03778527 -0.1702153   0.00156301]\n",
      "   [ 0.17605443  0.00824589  0.04411552]]]\n",
      "\n",
      "\n",
      " [[[-0.01470342  0.33056837 -0.00239159]\n",
      "   [-0.25045991  0.16204115 -0.13622309]]\n",
      "\n",
      "  [[-0.0336813   0.26490009  0.20840357]\n",
      "   [-0.23543524  0.26282534 -0.20519475]]]\n",
      "\n",
      "\n",
      " [[[ 0.08883944 -0.09321389 -0.06384052]\n",
      "   [-0.02936725 -0.10616434 -0.06020547]]\n",
      "\n",
      "  [[ 0.1777279  -0.1658376   0.19936102]\n",
      "   [-0.19036434 -0.17967419 -0.09345564]]]]\n"
     ]
    }
   ],
   "source": [
    "'''\n",
    "作業修改\n",
    "'''\n",
    "np.random.seed(1)\n",
    "A_prev = np.random.randn(4, 8, 8, 3)\n",
    "hparameters =  {\"stride\" : 3, \"f\": 5}\n",
    "\n",
    "A, cache = pool_forward(A_prev, hparameters)\n",
    "print(\"mode = max\")\n",
    "print(\"A =\", A)\n",
    "print()\n",
    "A, cache = pool_forward(A_prev, hparameters, mode = \"average\")\n",
    "print(\"mode = average\")\n",
    "print(\"A =\", A)"
   ]
  },
  {
   "cell_type": "code",
   "execution_count": null,
   "metadata": {},
   "outputs": [],
   "source": []
  }
 ],
 "metadata": {
  "kernelspec": {
   "display_name": "Python 3",
   "language": "python",
   "name": "python3"
  },
  "language_info": {
   "codemirror_mode": {
    "name": "ipython",
    "version": 3
   },
   "file_extension": ".py",
   "mimetype": "text/x-python",
   "name": "python",
   "nbconvert_exporter": "python",
   "pygments_lexer": "ipython3",
   "version": "3.7.3"
  }
 },
 "nbformat": 4,
 "nbformat_minor": 2
}

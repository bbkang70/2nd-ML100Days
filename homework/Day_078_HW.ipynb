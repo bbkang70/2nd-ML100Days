{
 "cells": [
  {
   "cell_type": "markdown",
   "metadata": {
    "colab_type": "text",
    "id": "fkDjAYURRL4V"
   },
   "source": [
    "## Work\n",
    "1. 請嘗試將 preproc_x 替換成以每筆資料的 min/max 進行標準化至 -1 ~ 1 間，再進行訓練\n",
    "2. 請嘗試將 mlp 疊更深 (e.g 5~10 層)，進行訓練後觀察 learning curve 的走勢\n",
    "3. (optional) 請改用 GPU 進行訓練 (如果你有 GPU 的話)，比較使用 CPU 與 GPU 的訓練速度"
   ]
  },
  {
   "cell_type": "code",
   "execution_count": 1,
   "metadata": {
    "colab": {
     "base_uri": "https://localhost:8080/",
     "height": 312
    },
    "colab_type": "code",
    "id": "sZop68XJRL4i",
    "outputId": "d88734e6-3800-4551-a9a5-3b7b468697ec"
   },
   "outputs": [
    {
     "name": "stdout",
     "output_type": "stream",
     "text": [
      "Sat Jul 20 04:02:35 2019       \n",
      "+-----------------------------------------------------------------------------+\n",
      "| NVIDIA-SMI 418.67       Driver Version: 410.79       CUDA Version: 10.0     |\n",
      "|-------------------------------+----------------------+----------------------+\n",
      "| GPU  Name        Persistence-M| Bus-Id        Disp.A | Volatile Uncorr. ECC |\n",
      "| Fan  Temp  Perf  Pwr:Usage/Cap|         Memory-Usage | GPU-Util  Compute M. |\n",
      "|===============================+======================+======================|\n",
      "|   0  Tesla T4            Off  | 00000000:00:04.0 Off |                    0 |\n",
      "| N/A   67C    P8    17W /  70W |      0MiB / 15079MiB |      0%      Default |\n",
      "+-------------------------------+----------------------+----------------------+\n",
      "                                                                               \n",
      "+-----------------------------------------------------------------------------+\n",
      "| Processes:                                                       GPU Memory |\n",
      "|  GPU       PID   Type   Process name                             Usage      |\n",
      "|=============================================================================|\n",
      "|  No running processes found                                                 |\n",
      "+-----------------------------------------------------------------------------+\n"
     ]
    }
   ],
   "source": [
    "## \n",
    "\"\"\"\n",
    "Your code here (optional)\n",
    "確認硬體資源\n",
    "\"\"\"\n",
    "!nvidia-smi"
   ]
  },
  {
   "cell_type": "code",
   "execution_count": 2,
   "metadata": {
    "colab": {
     "base_uri": "https://localhost:8080/",
     "height": 34
    },
    "colab_type": "code",
    "id": "GNMdUym2RL43",
    "outputId": "f0f7dbaf-761a-4b4d-8006-5a47e0c62104"
   },
   "outputs": [
    {
     "name": "stderr",
     "output_type": "stream",
     "text": [
      "Using TensorFlow backend.\n"
     ]
    }
   ],
   "source": [
    "import os\n",
    "import keras\n",
    "\n",
    "# 請嘗試設定 GPU：os.environ\n",
    "os.environ[\"CUDA_VISIBLE_DEVICES\"] = \"0\""
   ]
  },
  {
   "cell_type": "code",
   "execution_count": 3,
   "metadata": {
    "colab": {
     "base_uri": "https://localhost:8080/",
     "height": 52
    },
    "colab_type": "code",
    "id": "0fNRFC9jRL5W",
    "outputId": "b60278d8-d8c6-4377-afdb-5a439e6a71f2"
   },
   "outputs": [
    {
     "name": "stdout",
     "output_type": "stream",
     "text": [
      "Downloading data from https://www.cs.toronto.edu/~kriz/cifar-10-python.tar.gz\n",
      "170500096/170498071 [==============================] - 6s 0us/step\n"
     ]
    }
   ],
   "source": [
    "train, test = keras.datasets.cifar10.load_data()"
   ]
  },
  {
   "cell_type": "code",
   "execution_count": 0,
   "metadata": {
    "colab": {},
    "colab_type": "code",
    "id": "VL3k3FzARL5n"
   },
   "outputs": [],
   "source": [
    "## 資料前處理\n",
    "\"\"\"\n",
    "Your code here\n",
    "\"\"\"\n",
    "def preproc_x(x, flatten=True):\n",
    "    x = 2 * (((x - x.min()) / (x.max() - x.min())) -0.5)\n",
    "    if flatten:\n",
    "        x = x.reshape((len(x), -1))\n",
    "    return x\n",
    "def preproc_y(y, num_classes=10):\n",
    "    if y.shape[-1] == 1:\n",
    "        y = keras.utils.to_categorical(y, num_classes)\n",
    "    return y   \n",
    "  "
   ]
  },
  {
   "cell_type": "code",
   "execution_count": 0,
   "metadata": {
    "colab": {},
    "colab_type": "code",
    "id": "cu9jTb3ZRL5v"
   },
   "outputs": [],
   "source": [
    "x_train, y_train = train\n",
    "x_test, y_test = test\n",
    "\n",
    "# Preproc the inputs\n",
    "x_train = preproc_x(x_train)\n",
    "x_test = preproc_x(x_test)\n",
    "\n",
    "# Preprc the outputs\n",
    "y_train = preproc_y(y_train)\n",
    "y_test = preproc_y(y_test)"
   ]
  },
  {
   "cell_type": "code",
   "execution_count": 0,
   "metadata": {
    "colab": {},
    "colab_type": "code",
    "id": "Q_CyWcFCRL57"
   },
   "outputs": [],
   "source": [
    "\"\"\"Code Here\n",
    "建立你的神經網路\n",
    "\"\"\"\n",
    "def build_mlp(input_shape, output_units=10, num_neurons=[512, 256, 128, 128, 128, 128, 64]):\n",
    "    input_layer = keras.layers.Input(input_shape)\n",
    "    \n",
    "    for i, n_units in enumerate(num_neurons):\n",
    "        if i == 0:\n",
    "            x = keras.layers.Dense(units=n_units, activation=\"relu\", name=\"hidden_layer\"+str(i+1))(input_layer)\n",
    "        else:\n",
    "            x = keras.layers.Dense(units=n_units, activation=\"relu\", name=\"hidden_layer\"+str(i+1))(x)\n",
    "    \n",
    "    out = keras.layers.Dense(units=output_units, activation=\"softmax\", name=\"output\")(x)\n",
    "    \n",
    "    model = keras.models.Model(inputs=[input_layer], outputs=[out])\n",
    "    return model\n",
    "\n",
    "  \n"
   ]
  },
  {
   "cell_type": "code",
   "execution_count": 7,
   "metadata": {
    "colab": {
     "base_uri": "https://localhost:8080/",
     "height": 593
    },
    "colab_type": "code",
    "id": "bTRZjLI5UycO",
    "outputId": "706993f5-bbb0-45bd-a36b-fd538b149931"
   },
   "outputs": [
    {
     "name": "stderr",
     "output_type": "stream",
     "text": [
      "WARNING: Logging before flag parsing goes to stderr.\n",
      "W0720 04:02:55.473298 140020604565376 deprecation_wrapper.py:119] From /usr/local/lib/python3.6/dist-packages/keras/backend/tensorflow_backend.py:74: The name tf.get_default_graph is deprecated. Please use tf.compat.v1.get_default_graph instead.\n",
      "\n",
      "W0720 04:02:55.510999 140020604565376 deprecation_wrapper.py:119] From /usr/local/lib/python3.6/dist-packages/keras/backend/tensorflow_backend.py:517: The name tf.placeholder is deprecated. Please use tf.compat.v1.placeholder instead.\n",
      "\n",
      "W0720 04:02:55.517688 140020604565376 deprecation_wrapper.py:119] From /usr/local/lib/python3.6/dist-packages/keras/backend/tensorflow_backend.py:4138: The name tf.random_uniform is deprecated. Please use tf.random.uniform instead.\n",
      "\n"
     ]
    },
    {
     "name": "stdout",
     "output_type": "stream",
     "text": [
      "_________________________________________________________________\n",
      "Layer (type)                 Output Shape              Param #   \n",
      "=================================================================\n",
      "input_1 (InputLayer)         (None, 3072)              0         \n",
      "_________________________________________________________________\n",
      "hidden_layer1 (Dense)        (None, 512)               1573376   \n",
      "_________________________________________________________________\n",
      "hidden_layer2 (Dense)        (None, 256)               131328    \n",
      "_________________________________________________________________\n",
      "hidden_layer3 (Dense)        (None, 128)               32896     \n",
      "_________________________________________________________________\n",
      "hidden_layer4 (Dense)        (None, 128)               16512     \n",
      "_________________________________________________________________\n",
      "hidden_layer5 (Dense)        (None, 128)               16512     \n",
      "_________________________________________________________________\n",
      "hidden_layer6 (Dense)        (None, 128)               16512     \n",
      "_________________________________________________________________\n",
      "hidden_layer7 (Dense)        (None, 64)                8256      \n",
      "_________________________________________________________________\n",
      "output (Dense)               (None, 10)                650       \n",
      "=================================================================\n",
      "Total params: 1,796,042\n",
      "Trainable params: 1,796,042\n",
      "Non-trainable params: 0\n",
      "_________________________________________________________________\n"
     ]
    }
   ],
   "source": [
    "model = build_mlp(input_shape=x_train.shape[1:])\n",
    "model.summary()"
   ]
  },
  {
   "cell_type": "code",
   "execution_count": 0,
   "metadata": {
    "colab": {},
    "colab_type": "code",
    "id": "UzuKhLD5RL6D"
   },
   "outputs": [],
   "source": [
    "## 超參數設定\n",
    "LEARNING_RATE = 0.001\n",
    "EPOCHS = 100\n",
    "BATCH_SIZE = 256"
   ]
  },
  {
   "cell_type": "code",
   "execution_count": 9,
   "metadata": {
    "colab": {
     "base_uri": "https://localhost:8080/",
     "height": 106
    },
    "colab_type": "code",
    "id": "QZuqr8pvRL6j",
    "outputId": "e2a1c25a-3dcf-4910-9129-053994e0bea4"
   },
   "outputs": [
    {
     "name": "stderr",
     "output_type": "stream",
     "text": [
      "W0720 04:02:55.656303 140020604565376 deprecation_wrapper.py:119] From /usr/local/lib/python3.6/dist-packages/keras/optimizers.py:790: The name tf.train.Optimizer is deprecated. Please use tf.compat.v1.train.Optimizer instead.\n",
      "\n",
      "W0720 04:02:55.669563 140020604565376 deprecation_wrapper.py:119] From /usr/local/lib/python3.6/dist-packages/keras/backend/tensorflow_backend.py:3295: The name tf.log is deprecated. Please use tf.math.log instead.\n",
      "\n"
     ]
    }
   ],
   "source": [
    "optimizer = keras.optimizers.Adam(lr=LEARNING_RATE)\n",
    "model.compile(loss=\"categorical_crossentropy\", metrics=[\"accuracy\"], optimizer=optimizer)"
   ]
  },
  {
   "cell_type": "code",
   "execution_count": 10,
   "metadata": {
    "colab": {
     "base_uri": "https://localhost:8080/",
     "height": 1000
    },
    "colab_type": "code",
    "id": "9cSP3sAwRL69",
    "outputId": "3f49201a-ebc0-4c8b-b10b-08ff51258c80"
   },
   "outputs": [
    {
     "name": "stderr",
     "output_type": "stream",
     "text": [
      "W0720 04:02:55.796579 140020604565376 deprecation.py:323] From /usr/local/lib/python3.6/dist-packages/tensorflow/python/ops/math_grad.py:1250: add_dispatch_support.<locals>.wrapper (from tensorflow.python.ops.array_ops) is deprecated and will be removed in a future version.\n",
      "Instructions for updating:\n",
      "Use tf.where in 2.0, which has the same broadcast rule as np.where\n",
      "W0720 04:02:55.868769 140020604565376 deprecation_wrapper.py:119] From /usr/local/lib/python3.6/dist-packages/keras/backend/tensorflow_backend.py:986: The name tf.assign_add is deprecated. Please use tf.compat.v1.assign_add instead.\n",
      "\n"
     ]
    },
    {
     "name": "stdout",
     "output_type": "stream",
     "text": [
      "Train on 50000 samples, validate on 10000 samples\n",
      "Epoch 1/100\n",
      "50000/50000 [==============================] - 6s 126us/step - loss: 1.7233 - acc: 0.3837 - val_loss: 1.6054 - val_acc: 0.4215\n",
      "Epoch 2/100\n",
      "50000/50000 [==============================] - 2s 46us/step - loss: 1.4915 - acc: 0.4736 - val_loss: 1.4604 - val_acc: 0.4862\n",
      "Epoch 3/100\n",
      "50000/50000 [==============================] - 2s 46us/step - loss: 1.3698 - acc: 0.5164 - val_loss: 1.4044 - val_acc: 0.5099\n",
      "Epoch 4/100\n",
      "50000/50000 [==============================] - 2s 45us/step - loss: 1.2749 - acc: 0.5501 - val_loss: 1.3836 - val_acc: 0.5150\n",
      "Epoch 5/100\n",
      "50000/50000 [==============================] - 2s 44us/step - loss: 1.1903 - acc: 0.5796 - val_loss: 1.3549 - val_acc: 0.5285\n",
      "Epoch 6/100\n",
      "50000/50000 [==============================] - 2s 44us/step - loss: 1.1170 - acc: 0.6046 - val_loss: 1.3462 - val_acc: 0.5297\n",
      "Epoch 7/100\n",
      "50000/50000 [==============================] - 2s 44us/step - loss: 1.0393 - acc: 0.6320 - val_loss: 1.3743 - val_acc: 0.5329\n",
      "Epoch 8/100\n",
      "50000/50000 [==============================] - 2s 44us/step - loss: 0.9737 - acc: 0.6551 - val_loss: 1.4069 - val_acc: 0.5331\n",
      "Epoch 9/100\n",
      "50000/50000 [==============================] - 2s 44us/step - loss: 0.9122 - acc: 0.6771 - val_loss: 1.4096 - val_acc: 0.5276\n",
      "Epoch 10/100\n",
      "50000/50000 [==============================] - 2s 45us/step - loss: 0.8532 - acc: 0.6971 - val_loss: 1.4125 - val_acc: 0.5383\n",
      "Epoch 11/100\n",
      "50000/50000 [==============================] - 2s 45us/step - loss: 0.7870 - acc: 0.7212 - val_loss: 1.4474 - val_acc: 0.5420\n",
      "Epoch 12/100\n",
      "50000/50000 [==============================] - 2s 44us/step - loss: 0.7365 - acc: 0.7407 - val_loss: 1.4966 - val_acc: 0.5452\n",
      "Epoch 13/100\n",
      "50000/50000 [==============================] - 2s 42us/step - loss: 0.6767 - acc: 0.7599 - val_loss: 1.6115 - val_acc: 0.5353\n",
      "Epoch 14/100\n",
      "50000/50000 [==============================] - 2s 46us/step - loss: 0.6237 - acc: 0.7776 - val_loss: 1.6788 - val_acc: 0.5397\n",
      "Epoch 15/100\n",
      "50000/50000 [==============================] - 2s 47us/step - loss: 0.5766 - acc: 0.7970 - val_loss: 1.6854 - val_acc: 0.5454\n",
      "Epoch 16/100\n",
      "50000/50000 [==============================] - 2s 45us/step - loss: 0.5298 - acc: 0.8140 - val_loss: 1.7943 - val_acc: 0.5382\n",
      "Epoch 17/100\n",
      "50000/50000 [==============================] - 2s 45us/step - loss: 0.4872 - acc: 0.8294 - val_loss: 1.8639 - val_acc: 0.5364\n",
      "Epoch 18/100\n",
      "50000/50000 [==============================] - 2s 43us/step - loss: 0.4622 - acc: 0.8388 - val_loss: 1.8975 - val_acc: 0.5316\n",
      "Epoch 19/100\n",
      "50000/50000 [==============================] - 2s 44us/step - loss: 0.4329 - acc: 0.8492 - val_loss: 1.9167 - val_acc: 0.5392\n",
      "Epoch 20/100\n",
      "50000/50000 [==============================] - 2s 44us/step - loss: 0.3957 - acc: 0.8626 - val_loss: 2.0798 - val_acc: 0.5371\n",
      "Epoch 21/100\n",
      "50000/50000 [==============================] - 2s 45us/step - loss: 0.3718 - acc: 0.8697 - val_loss: 2.1253 - val_acc: 0.5445\n",
      "Epoch 22/100\n",
      "50000/50000 [==============================] - 2s 43us/step - loss: 0.3455 - acc: 0.8794 - val_loss: 2.2284 - val_acc: 0.5464\n",
      "Epoch 23/100\n",
      "50000/50000 [==============================] - 2s 43us/step - loss: 0.3288 - acc: 0.8862 - val_loss: 2.1925 - val_acc: 0.5340\n",
      "Epoch 24/100\n",
      "50000/50000 [==============================] - 2s 44us/step - loss: 0.3015 - acc: 0.8955 - val_loss: 2.1948 - val_acc: 0.5372\n",
      "Epoch 25/100\n",
      "50000/50000 [==============================] - 2s 43us/step - loss: 0.2946 - acc: 0.8981 - val_loss: 2.3440 - val_acc: 0.5270\n",
      "Epoch 26/100\n",
      "50000/50000 [==============================] - 2s 45us/step - loss: 0.2770 - acc: 0.9042 - val_loss: 2.3752 - val_acc: 0.5408\n",
      "Epoch 27/100\n",
      "50000/50000 [==============================] - 2s 44us/step - loss: 0.2574 - acc: 0.9123 - val_loss: 2.3238 - val_acc: 0.5352\n",
      "Epoch 28/100\n",
      "50000/50000 [==============================] - 2s 43us/step - loss: 0.2536 - acc: 0.9140 - val_loss: 2.4665 - val_acc: 0.5302\n",
      "Epoch 29/100\n",
      "50000/50000 [==============================] - 2s 44us/step - loss: 0.2370 - acc: 0.9186 - val_loss: 2.5745 - val_acc: 0.5352\n",
      "Epoch 30/100\n",
      "50000/50000 [==============================] - 2s 44us/step - loss: 0.2267 - acc: 0.9226 - val_loss: 2.5795 - val_acc: 0.5285\n",
      "Epoch 31/100\n",
      "50000/50000 [==============================] - 2s 45us/step - loss: 0.2159 - acc: 0.9253 - val_loss: 2.6184 - val_acc: 0.5291\n",
      "Epoch 32/100\n",
      "50000/50000 [==============================] - 2s 44us/step - loss: 0.2171 - acc: 0.9265 - val_loss: 2.5935 - val_acc: 0.5324\n",
      "Epoch 33/100\n",
      "50000/50000 [==============================] - 2s 44us/step - loss: 0.1980 - acc: 0.9311 - val_loss: 2.7054 - val_acc: 0.5358\n",
      "Epoch 34/100\n",
      "50000/50000 [==============================] - 2s 45us/step - loss: 0.1877 - acc: 0.9358 - val_loss: 2.8656 - val_acc: 0.5260\n",
      "Epoch 35/100\n",
      "50000/50000 [==============================] - 2s 45us/step - loss: 0.1934 - acc: 0.9331 - val_loss: 2.8751 - val_acc: 0.5423\n",
      "Epoch 36/100\n",
      "50000/50000 [==============================] - 2s 43us/step - loss: 0.1811 - acc: 0.9381 - val_loss: 2.9036 - val_acc: 0.5322\n",
      "Epoch 37/100\n",
      "50000/50000 [==============================] - 2s 44us/step - loss: 0.1698 - acc: 0.9427 - val_loss: 2.8708 - val_acc: 0.5317\n",
      "Epoch 38/100\n",
      "50000/50000 [==============================] - 2s 45us/step - loss: 0.1735 - acc: 0.9408 - val_loss: 2.8082 - val_acc: 0.5326\n",
      "Epoch 39/100\n",
      "50000/50000 [==============================] - 2s 44us/step - loss: 0.1552 - acc: 0.9478 - val_loss: 2.9611 - val_acc: 0.5311\n",
      "Epoch 40/100\n",
      "50000/50000 [==============================] - 2s 45us/step - loss: 0.1559 - acc: 0.9468 - val_loss: 2.9226 - val_acc: 0.5291\n",
      "Epoch 41/100\n",
      "50000/50000 [==============================] - 2s 46us/step - loss: 0.1475 - acc: 0.9504 - val_loss: 2.9481 - val_acc: 0.5345\n",
      "Epoch 42/100\n",
      "50000/50000 [==============================] - 2s 45us/step - loss: 0.1672 - acc: 0.9426 - val_loss: 2.9336 - val_acc: 0.5378\n",
      "Epoch 43/100\n",
      "50000/50000 [==============================] - 2s 44us/step - loss: 0.1554 - acc: 0.9468 - val_loss: 3.0330 - val_acc: 0.5383\n",
      "Epoch 44/100\n",
      "50000/50000 [==============================] - 2s 43us/step - loss: 0.1471 - acc: 0.9509 - val_loss: 2.9422 - val_acc: 0.5266\n",
      "Epoch 45/100\n",
      "50000/50000 [==============================] - 2s 45us/step - loss: 0.1445 - acc: 0.9509 - val_loss: 2.9375 - val_acc: 0.5323\n",
      "Epoch 46/100\n",
      "50000/50000 [==============================] - 2s 43us/step - loss: 0.1401 - acc: 0.9526 - val_loss: 3.0979 - val_acc: 0.5387\n",
      "Epoch 47/100\n",
      "50000/50000 [==============================] - 2s 43us/step - loss: 0.1310 - acc: 0.9563 - val_loss: 2.8591 - val_acc: 0.5366\n",
      "Epoch 48/100\n",
      "50000/50000 [==============================] - 2s 44us/step - loss: 0.1202 - acc: 0.9590 - val_loss: 3.1008 - val_acc: 0.5297\n",
      "Epoch 49/100\n",
      "50000/50000 [==============================] - 2s 44us/step - loss: 0.1358 - acc: 0.9542 - val_loss: 2.9436 - val_acc: 0.5328\n",
      "Epoch 50/100\n",
      "50000/50000 [==============================] - 2s 44us/step - loss: 0.1248 - acc: 0.9586 - val_loss: 3.0638 - val_acc: 0.5414\n",
      "Epoch 51/100\n",
      "50000/50000 [==============================] - 2s 44us/step - loss: 0.1327 - acc: 0.9562 - val_loss: 3.0240 - val_acc: 0.5351\n",
      "Epoch 52/100\n",
      "50000/50000 [==============================] - 2s 43us/step - loss: 0.1318 - acc: 0.9571 - val_loss: 3.0172 - val_acc: 0.5309\n",
      "Epoch 53/100\n",
      "50000/50000 [==============================] - 2s 43us/step - loss: 0.1117 - acc: 0.9631 - val_loss: 3.1045 - val_acc: 0.5355\n",
      "Epoch 54/100\n",
      "50000/50000 [==============================] - 2s 43us/step - loss: 0.1032 - acc: 0.9650 - val_loss: 3.0758 - val_acc: 0.5331\n",
      "Epoch 55/100\n",
      "50000/50000 [==============================] - 2s 43us/step - loss: 0.1160 - acc: 0.9611 - val_loss: 3.0959 - val_acc: 0.5300\n",
      "Epoch 56/100\n",
      "50000/50000 [==============================] - 2s 45us/step - loss: 0.1127 - acc: 0.9625 - val_loss: 3.0374 - val_acc: 0.5344\n",
      "Epoch 57/100\n",
      "50000/50000 [==============================] - 2s 45us/step - loss: 0.1166 - acc: 0.9617 - val_loss: 3.1485 - val_acc: 0.5316\n",
      "Epoch 58/100\n",
      "50000/50000 [==============================] - 2s 43us/step - loss: 0.1177 - acc: 0.9614 - val_loss: 3.0650 - val_acc: 0.5367\n",
      "Epoch 59/100\n",
      "50000/50000 [==============================] - 2s 43us/step - loss: 0.0941 - acc: 0.9687 - val_loss: 3.1938 - val_acc: 0.5348\n",
      "Epoch 60/100\n",
      "50000/50000 [==============================] - 2s 44us/step - loss: 0.1019 - acc: 0.9664 - val_loss: 3.1139 - val_acc: 0.5337\n",
      "Epoch 61/100\n",
      "50000/50000 [==============================] - 2s 45us/step - loss: 0.1058 - acc: 0.9655 - val_loss: 3.3670 - val_acc: 0.5283\n",
      "Epoch 62/100\n",
      "50000/50000 [==============================] - 2s 44us/step - loss: 0.1013 - acc: 0.9670 - val_loss: 3.1539 - val_acc: 0.5388\n",
      "Epoch 63/100\n",
      "50000/50000 [==============================] - 2s 43us/step - loss: 0.0928 - acc: 0.9698 - val_loss: 3.2897 - val_acc: 0.5310\n",
      "Epoch 64/100\n",
      "50000/50000 [==============================] - 2s 45us/step - loss: 0.0942 - acc: 0.9689 - val_loss: 3.3398 - val_acc: 0.5301\n",
      "Epoch 65/100\n",
      "50000/50000 [==============================] - 2s 44us/step - loss: 0.0966 - acc: 0.9682 - val_loss: 3.3757 - val_acc: 0.5273\n",
      "Epoch 66/100\n",
      "50000/50000 [==============================] - 2s 43us/step - loss: 0.0939 - acc: 0.9687 - val_loss: 3.2172 - val_acc: 0.5335\n",
      "Epoch 67/100\n",
      "50000/50000 [==============================] - 2s 43us/step - loss: 0.0980 - acc: 0.9682 - val_loss: 3.2761 - val_acc: 0.5385\n",
      "Epoch 68/100\n",
      "50000/50000 [==============================] - 2s 43us/step - loss: 0.1029 - acc: 0.9662 - val_loss: 3.0528 - val_acc: 0.5315\n",
      "Epoch 69/100\n",
      "50000/50000 [==============================] - 2s 44us/step - loss: 0.0890 - acc: 0.9707 - val_loss: 3.2056 - val_acc: 0.5381\n",
      "Epoch 70/100\n",
      "50000/50000 [==============================] - 2s 45us/step - loss: 0.0987 - acc: 0.9679 - val_loss: 3.0937 - val_acc: 0.5332\n",
      "Epoch 71/100\n",
      "50000/50000 [==============================] - 2s 45us/step - loss: 0.0934 - acc: 0.9698 - val_loss: 3.3349 - val_acc: 0.5305\n",
      "Epoch 72/100\n",
      "50000/50000 [==============================] - 2s 44us/step - loss: 0.0848 - acc: 0.9719 - val_loss: 3.4459 - val_acc: 0.5374\n",
      "Epoch 73/100\n",
      "50000/50000 [==============================] - 2s 45us/step - loss: 0.0847 - acc: 0.9719 - val_loss: 3.3364 - val_acc: 0.5321\n",
      "Epoch 74/100\n",
      "50000/50000 [==============================] - 2s 44us/step - loss: 0.0805 - acc: 0.9739 - val_loss: 3.3912 - val_acc: 0.5315\n",
      "Epoch 75/100\n",
      "50000/50000 [==============================] - 2s 44us/step - loss: 0.0929 - acc: 0.9699 - val_loss: 3.3550 - val_acc: 0.5338\n",
      "Epoch 76/100\n",
      "50000/50000 [==============================] - 2s 43us/step - loss: 0.0914 - acc: 0.9697 - val_loss: 3.4179 - val_acc: 0.5371\n",
      "Epoch 77/100\n",
      "50000/50000 [==============================] - 2s 44us/step - loss: 0.0872 - acc: 0.9714 - val_loss: 3.3284 - val_acc: 0.5383\n",
      "Epoch 78/100\n",
      "50000/50000 [==============================] - 2s 44us/step - loss: 0.0924 - acc: 0.9698 - val_loss: 3.3638 - val_acc: 0.5293\n",
      "Epoch 79/100\n",
      "50000/50000 [==============================] - 2s 45us/step - loss: 0.0793 - acc: 0.9734 - val_loss: 3.3136 - val_acc: 0.5360\n",
      "Epoch 80/100\n",
      "50000/50000 [==============================] - 2s 45us/step - loss: 0.0862 - acc: 0.9723 - val_loss: 3.3256 - val_acc: 0.5407\n",
      "Epoch 81/100\n",
      "50000/50000 [==============================] - 2s 45us/step - loss: 0.0704 - acc: 0.9762 - val_loss: 3.4251 - val_acc: 0.5299\n",
      "Epoch 82/100\n",
      "50000/50000 [==============================] - 2s 44us/step - loss: 0.0822 - acc: 0.9739 - val_loss: 3.6173 - val_acc: 0.5340\n",
      "Epoch 83/100\n",
      "50000/50000 [==============================] - 2s 44us/step - loss: 0.0829 - acc: 0.9732 - val_loss: 3.6736 - val_acc: 0.5293\n",
      "Epoch 84/100\n",
      "50000/50000 [==============================] - 2s 45us/step - loss: 0.0765 - acc: 0.9748 - val_loss: 3.3440 - val_acc: 0.5339\n",
      "Epoch 85/100\n",
      "50000/50000 [==============================] - 2s 45us/step - loss: 0.0763 - acc: 0.9747 - val_loss: 3.2291 - val_acc: 0.5336\n",
      "Epoch 86/100\n",
      "50000/50000 [==============================] - 2s 44us/step - loss: 0.0742 - acc: 0.9757 - val_loss: 3.5031 - val_acc: 0.5354\n",
      "Epoch 87/100\n",
      "50000/50000 [==============================] - 2s 44us/step - loss: 0.0774 - acc: 0.9746 - val_loss: 3.4466 - val_acc: 0.5397\n",
      "Epoch 88/100\n",
      "50000/50000 [==============================] - 2s 43us/step - loss: 0.0721 - acc: 0.9773 - val_loss: 3.5857 - val_acc: 0.5255\n",
      "Epoch 89/100\n",
      "50000/50000 [==============================] - 2s 43us/step - loss: 0.0692 - acc: 0.9772 - val_loss: 3.5557 - val_acc: 0.5268\n",
      "Epoch 90/100\n",
      "50000/50000 [==============================] - 2s 43us/step - loss: 0.0760 - acc: 0.9748 - val_loss: 3.5521 - val_acc: 0.5425\n",
      "Epoch 91/100\n",
      "50000/50000 [==============================] - 2s 43us/step - loss: 0.0776 - acc: 0.9754 - val_loss: 3.4029 - val_acc: 0.5311\n",
      "Epoch 92/100\n",
      "50000/50000 [==============================] - 2s 43us/step - loss: 0.0612 - acc: 0.9803 - val_loss: 3.5187 - val_acc: 0.5366\n",
      "Epoch 93/100\n",
      "50000/50000 [==============================] - 2s 43us/step - loss: 0.0699 - acc: 0.9773 - val_loss: 3.5287 - val_acc: 0.5352\n",
      "Epoch 94/100\n",
      "50000/50000 [==============================] - 2s 43us/step - loss: 0.0721 - acc: 0.9769 - val_loss: 3.4130 - val_acc: 0.5288\n",
      "Epoch 95/100\n",
      "50000/50000 [==============================] - 2s 44us/step - loss: 0.0705 - acc: 0.9778 - val_loss: 3.3689 - val_acc: 0.5309\n",
      "Epoch 96/100\n",
      "50000/50000 [==============================] - 2s 44us/step - loss: 0.0773 - acc: 0.9759 - val_loss: 3.3708 - val_acc: 0.5333\n",
      "Epoch 97/100\n",
      "50000/50000 [==============================] - 2s 46us/step - loss: 0.0641 - acc: 0.9800 - val_loss: 3.4449 - val_acc: 0.5360\n",
      "Epoch 98/100\n",
      "50000/50000 [==============================] - 2s 45us/step - loss: 0.0730 - acc: 0.9764 - val_loss: 3.5106 - val_acc: 0.5298\n",
      "Epoch 99/100\n",
      "50000/50000 [==============================] - 2s 43us/step - loss: 0.0723 - acc: 0.9768 - val_loss: 3.4480 - val_acc: 0.5307\n",
      "Epoch 100/100\n",
      "50000/50000 [==============================] - 2s 43us/step - loss: 0.0619 - acc: 0.9805 - val_loss: 3.4678 - val_acc: 0.5259\n"
     ]
    },
    {
     "data": {
      "text/plain": [
       "<keras.callbacks.History at 0x7f58cab3e550>"
      ]
     },
     "execution_count": 10,
     "metadata": {
      "tags": []
     },
     "output_type": "execute_result"
    }
   ],
   "source": [
    "model.fit(x_train, y_train, \n",
    "          epochs=EPOCHS, \n",
    "          batch_size=BATCH_SIZE, \n",
    "          validation_data=(x_test, y_test), \n",
    "          shuffle=True)"
   ]
  },
  {
   "cell_type": "code",
   "execution_count": 11,
   "metadata": {
    "colab": {
     "base_uri": "https://localhost:8080/",
     "height": 545
    },
    "colab_type": "code",
    "id": "N5WK27dHRL7w",
    "outputId": "ec2a546e-59a5-48c1-fd5d-774dad2f0232"
   },
   "outputs": [
    {
     "data": {
      "image/png": "[encoded data removed]",
      "text/plain": [
       "<Figure size 432x288 with 1 Axes>"
      ]
     },
     "metadata": {
      "tags": []
     },
     "output_type": "display_data"
    },
    {
     "data": {
      "image/png": "[encoded data removed]",
      "text/plain": [
       "<Figure size 432x288 with 1 Axes>"
      ]
     },
     "metadata": {
      "tags": []
     },
     "output_type": "display_data"
    }
   ],
   "source": [
    "import matplotlib.pyplot as plt\n",
    "\n",
    "train_loss = model.history.history[\"loss\"]\n",
    "valid_loss = model.history.history[\"val_loss\"]\n",
    "\n",
    "train_acc = model.history.history[\"acc\"]\n",
    "valid_acc = model.history.history[\"val_acc\"]\n",
    "\n",
    "plt.plot(range(len(train_loss)), train_loss, label=\"train loss\")\n",
    "plt.plot(range(len(valid_loss)), valid_loss, label=\"valid loss\")\n",
    "plt.legend()\n",
    "plt.title(\"Loss\")\n",
    "plt.show()\n",
    "\n",
    "plt.plot(range(len(train_acc)), train_acc, label=\"train accuracy\")\n",
    "plt.plot(range(len(valid_acc)), valid_acc, label=\"valid accuracy\")\n",
    "plt.legend()\n",
    "plt.title(\"Accuracy\")\n",
    "plt.show()"
   ]
  }
 ],
 "metadata": {
  "accelerator": "GPU",
  "colab": {
   "name": "Day078_HW.ipynb",
   "provenance": [],
   "version": "0.3.2"
  },
  "kernelspec": {
   "display_name": "Python 3",
   "language": "python",
   "name": "python3"
  },
  "language_info": {
   "codemirror_mode": {
    "name": "ipython",
    "version": 3
   },
   "file_extension": ".py",
   "mimetype": "text/x-python",
   "name": "python",
   "nbconvert_exporter": "python",
   "pygments_lexer": "ipython3",
   "version": "3.7.3"
  }
 },
 "nbformat": 4,
 "nbformat_minor": 1
}

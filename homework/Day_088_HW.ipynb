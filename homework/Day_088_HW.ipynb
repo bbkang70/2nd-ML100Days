{
  "nbformat": 4,
  "nbformat_minor": 0,
  "metadata": {
    "kernelspec": {
      "name": "python3",
      "display_name": "Python 3"
    },
    "language_info": {
      "codemirror_mode": {
        "name": "ipython",
        "version": 3
      },
      "file_extension": ".py",
      "mimetype": "text/x-python",
      "name": "python",
      "nbconvert_exporter": "python",
      "pygments_lexer": "ipython3",
      "version": "3.6.5"
    },
    "colab": {
      "name": "Day088_HW.ipynb",
      "version": "0.3.2",
      "provenance": [],
      "collapsed_sections": []
    },
    "accelerator": "GPU"
  },
  "cells": [
    {
      "cell_type": "markdown",
      "metadata": {
        "id": "e1X71o-dmcYV",
        "colab_type": "text"
      },
      "source": [
        "## Work\n",
        "1. 請嘗試寫一個 callback 用來記錄各類別在訓練過程中，對驗證集的 True Positive 與 True Negative"
      ]
    },
    {
      "cell_type": "code",
      "metadata": {
        "id": "VNlMO2J7mcYc",
        "colab_type": "code",
        "outputId": "23bccd78-20c3-468b-9d90-0b60f95c4767",
        "colab": {
          "base_uri": "https://localhost:8080/",
          "height": 34
        }
      },
      "source": [
        "import os\n",
        "import keras\n",
        "\n",
        "# Disable GPU\n",
        "os.environ[\"CUDA_VISIBLE_DEVICES\"] = \"0\""
      ],
      "execution_count": 0,
      "outputs": [
        {
          "output_type": "stream",
          "text": [
            "Using TensorFlow backend.\n"
          ],
          "name": "stderr"
        }
      ]
    },
    {
      "cell_type": "code",
      "metadata": {
        "id": "o2Wy2KycmcYt",
        "colab_type": "code",
        "outputId": "d35d6952-7ce5-4a8d-f6de-b7296dec3be2",
        "colab": {
          "base_uri": "https://localhost:8080/",
          "height": 52
        }
      },
      "source": [
        "train, test = keras.datasets.cifar10.load_data()"
      ],
      "execution_count": 0,
      "outputs": [
        {
          "output_type": "stream",
          "text": [
            "Downloading data from https://www.cs.toronto.edu/~kriz/cifar-10-python.tar.gz\n",
            "170500096/170498071 [==============================] - 2s 0us/step\n"
          ],
          "name": "stdout"
        }
      ]
    },
    {
      "cell_type": "code",
      "metadata": {
        "id": "l_lINLi6mcY8",
        "colab_type": "code",
        "colab": {}
      },
      "source": [
        "## 資料前處理\n",
        "def preproc_x(x, flatten=True):\n",
        "    x = x / 255.\n",
        "    if flatten:\n",
        "        x = x.reshape((len(x), -1))\n",
        "    return x\n",
        "\n",
        "def preproc_y(y, num_classes=10):\n",
        "    if y.shape[-1] == 1:\n",
        "        y = keras.utils.to_categorical(y, num_classes)\n",
        "    return y    "
      ],
      "execution_count": 0,
      "outputs": []
    },
    {
      "cell_type": "code",
      "metadata": {
        "id": "uyPeWCuJmcZJ",
        "colab_type": "code",
        "colab": {}
      },
      "source": [
        "x_train, y_train = train\n",
        "x_test, y_test = test\n",
        "\n",
        "# Preproc the inputs\n",
        "x_train = preproc_x(x_train)\n",
        "x_test = preproc_x(x_test)\n",
        "\n",
        "# Preprc the outputs\n",
        "y_train = preproc_y(y_train)\n",
        "y_test = preproc_y(y_test)"
      ],
      "execution_count": 0,
      "outputs": []
    },
    {
      "cell_type": "code",
      "metadata": {
        "id": "kpsD4MSemcZV",
        "colab_type": "code",
        "colab": {}
      },
      "source": [
        "from keras.layers import BatchNormalization\n",
        "def build_mlp(input_shape, output_units=10, num_neurons=[256, 256, 256]):\n",
        "    input_layer = keras.layers.Input(input_shape)\n",
        "    \n",
        "    for i, n_units in enumerate(num_neurons):\n",
        "        if i == 0:\n",
        "            x = keras.layers.Dense(units=n_units, \n",
        "                                   activation=\"relu\", \n",
        "                                   name=\"hidden_layer\"+str(i+1))(input_layer)\n",
        "            x = BatchNormalization()(x)\n",
        "        else:\n",
        "            x = keras.layers.Dense(units=n_units, \n",
        "                                   activation=\"relu\", \n",
        "                                   name=\"hidden_layer\"+str(i+1))(x)\n",
        "            x = BatchNormalization()(x)\n",
        "    \n",
        "    out = keras.layers.Dense(units=output_units, activation=\"softmax\", name=\"output\")(x)\n",
        "    \n",
        "    model = keras.models.Model(inputs=[input_layer], outputs=[out])\n",
        "    return model"
      ],
      "execution_count": 0,
      "outputs": []
    },
    {
      "cell_type": "code",
      "metadata": {
        "id": "DzYNPZfPmcZb",
        "colab_type": "code",
        "colab": {}
      },
      "source": [
        "## 超參數設定\n",
        "LEARNING_RATE = 1e-3\n",
        "EPOCHS = 25\n",
        "BATCH_SIZE = 1024\n",
        "MOMENTUM = 0.95"
      ],
      "execution_count": 0,
      "outputs": []
    },
    {
      "cell_type": "code",
      "metadata": {
        "id": "ioSP7BpCmcZj",
        "colab_type": "code",
        "colab": {}
      },
      "source": [
        "# 載入 Callbacks\n",
        "from keras.callbacks import Callback\n",
        "\n",
        "# Record_fp_tp\n",
        "class Record_tp_tn(Callback):\n",
        "    def on_train_begin(self, epoch, logs = {}):\n",
        "        logs = logs or {}\n",
        "        record_items = [\"val_tp\", \"val_tn\"]\n",
        "        for i in record_items:\n",
        "            if i not in self.params['metrics']:\n",
        "                self.params['metrics'].append(i)\n",
        "    def on_epoch_end(self, epoch, logs = {}, thres=0.5):\n",
        "      logs = logs or {}\n",
        "      y_true = self.validation_data[1].argmax(axis = 1)\n",
        "      y_pred = self.model.predict(self.validation_data[0])\n",
        "      y_pred = (y_pred[:, 1] >= thres) * 1\n",
        "      val_tp = sum((y_true==1) & (y_pred==1))\n",
        "      val_tn = sum((y_true==0) & (y_pred==0))\n",
        "\n",
        "      logs[\"val_tp\"] = val_tp\n",
        "      logs[\"val_tn\"] = val_tn\n",
        "    \"\"\"Code Here\n",
        "    撰寫一個紀錄 ture positive 與 true negative 數量的 callbacks    \n",
        "    \"\"\"\n",
        "        \n",
        "rec_tptn = Record_tp_tn()"
      ],
      "execution_count": 0,
      "outputs": []
    },
    {
      "cell_type": "code",
      "metadata": {
        "scrolled": true,
        "id": "Lz1gyM4BmcZs",
        "colab_type": "code",
        "outputId": "037f817c-99a7-4f1b-800e-dca6e8f57c5a",
        "colab": {
          "base_uri": "https://localhost:8080/",
          "height": 1000
        }
      },
      "source": [
        "from keras.callbacks import Callback\n",
        "\n",
        "model = build_mlp(input_shape=x_train.shape[1:])\n",
        "model.summary()\n",
        "optimizer = keras.optimizers.SGD(lr=LEARNING_RATE, nesterov=True, momentum=MOMENTUM)\n",
        "model.compile(loss=\"categorical_crossentropy\", metrics=[\"accuracy\"], optimizer=optimizer)\n",
        "\n",
        "\"\"\"Code Here\n",
        "將 callbacks 放入模型訓練流程中\n",
        "\"\"\"\n",
        "model.fit(x_train, y_train, \n",
        "          epochs=EPOCHS, \n",
        "          batch_size=BATCH_SIZE, \n",
        "          validation_data=(x_test, y_test), \n",
        "          shuffle=True,\n",
        "          callbacks=[rec_tptn])\n",
        "\n",
        "# Collect results\n",
        "train_loss = model.history.history[\"loss\"]\n",
        "valid_loss = model.history.history[\"val_loss\"]\n",
        "train_acc = model.history.history[\"acc\"]\n",
        "valid_acc = model.history.history[\"val_acc\"]\n",
        "\n",
        "\"\"\"Code Here\n",
        "將 tp/tn 從訓練完的模型中取出\n",
        "\"\"\"\n",
        "valid_tp = model.history.history[\"val_tp\"]\n",
        "valid_tn = model.history.history[\"val_tn\"]"
      ],
      "execution_count": 0,
      "outputs": [
        {
          "output_type": "stream",
          "text": [
            "_________________________________________________________________\n",
            "Layer (type)                 Output Shape              Param #   \n",
            "=================================================================\n",
            "input_25 (InputLayer)        (None, 3072)              0         \n",
            "_________________________________________________________________\n",
            "hidden_layer1 (Dense)        (None, 256)               786688    \n",
            "_________________________________________________________________\n",
            "batch_normalization_73 (Batc (None, 256)               1024      \n",
            "_________________________________________________________________\n",
            "hidden_layer2 (Dense)        (None, 256)               65792     \n",
            "_________________________________________________________________\n",
            "batch_normalization_74 (Batc (None, 256)               1024      \n",
            "_________________________________________________________________\n",
            "hidden_layer3 (Dense)        (None, 256)               65792     \n",
            "_________________________________________________________________\n",
            "batch_normalization_75 (Batc (None, 256)               1024      \n",
            "_________________________________________________________________\n",
            "output (Dense)               (None, 10)                2570      \n",
            "=================================================================\n",
            "Total params: 923,914\n",
            "Trainable params: 922,378\n",
            "Non-trainable params: 1,536\n",
            "_________________________________________________________________\n",
            "Train on 50000 samples, validate on 10000 samples\n",
            "Epoch 1/25\n",
            "50000/50000 [==============================] - 7s 134us/step - loss: 2.2350 - acc: 0.2705 - val_loss: 2.1057 - val_acc: 0.3106\n",
            "Epoch 2/25\n",
            "50000/50000 [==============================] - 2s 36us/step - loss: 1.7719 - acc: 0.3865 - val_loss: 1.8782 - val_acc: 0.3693\n",
            "Epoch 3/25\n",
            "50000/50000 [==============================] - 2s 37us/step - loss: 1.6465 - acc: 0.4286 - val_loss: 1.7406 - val_acc: 0.4040\n",
            "Epoch 4/25\n",
            "50000/50000 [==============================] - 2s 37us/step - loss: 1.5755 - acc: 0.4512 - val_loss: 1.6517 - val_acc: 0.4196\n",
            "Epoch 5/25\n",
            "50000/50000 [==============================] - 2s 35us/step - loss: 1.5218 - acc: 0.4686 - val_loss: 1.6140 - val_acc: 0.4341\n",
            "Epoch 6/25\n",
            "50000/50000 [==============================] - 2s 36us/step - loss: 1.4783 - acc: 0.4842 - val_loss: 1.5796 - val_acc: 0.4468\n",
            "Epoch 7/25\n",
            "50000/50000 [==============================] - 2s 35us/step - loss: 1.4418 - acc: 0.4965 - val_loss: 1.5604 - val_acc: 0.4479\n",
            "Epoch 8/25\n",
            "50000/50000 [==============================] - 2s 36us/step - loss: 1.4063 - acc: 0.5099 - val_loss: 1.5612 - val_acc: 0.4525\n",
            "Epoch 9/25\n",
            "50000/50000 [==============================] - 2s 35us/step - loss: 1.3766 - acc: 0.5216 - val_loss: 1.5318 - val_acc: 0.4584\n",
            "Epoch 10/25\n",
            "50000/50000 [==============================] - 2s 36us/step - loss: 1.3475 - acc: 0.5303 - val_loss: 1.5088 - val_acc: 0.4662\n",
            "Epoch 11/25\n",
            "50000/50000 [==============================] - 2s 36us/step - loss: 1.3228 - acc: 0.5403 - val_loss: 1.5068 - val_acc: 0.4710\n",
            "Epoch 12/25\n",
            "50000/50000 [==============================] - 2s 36us/step - loss: 1.2980 - acc: 0.5494 - val_loss: 1.5015 - val_acc: 0.4633\n",
            "Epoch 13/25\n",
            "50000/50000 [==============================] - 2s 36us/step - loss: 1.2744 - acc: 0.5576 - val_loss: 1.4828 - val_acc: 0.4753\n",
            "Epoch 14/25\n",
            "50000/50000 [==============================] - 2s 36us/step - loss: 1.2527 - acc: 0.5653 - val_loss: 1.4836 - val_acc: 0.4813\n",
            "Epoch 15/25\n",
            "50000/50000 [==============================] - 2s 36us/step - loss: 1.2320 - acc: 0.5736 - val_loss: 1.4643 - val_acc: 0.4822\n",
            "Epoch 16/25\n",
            "50000/50000 [==============================] - 2s 36us/step - loss: 1.2085 - acc: 0.5818 - val_loss: 1.4781 - val_acc: 0.4791\n",
            "Epoch 17/25\n",
            "50000/50000 [==============================] - 2s 36us/step - loss: 1.1909 - acc: 0.5883 - val_loss: 1.4715 - val_acc: 0.4788\n",
            "Epoch 18/25\n",
            "50000/50000 [==============================] - 2s 36us/step - loss: 1.1716 - acc: 0.5960 - val_loss: 1.4653 - val_acc: 0.4860\n",
            "Epoch 19/25\n",
            "50000/50000 [==============================] - 2s 35us/step - loss: 1.1526 - acc: 0.6045 - val_loss: 1.4570 - val_acc: 0.4913\n",
            "Epoch 20/25\n",
            "50000/50000 [==============================] - 2s 35us/step - loss: 1.1334 - acc: 0.6104 - val_loss: 1.4499 - val_acc: 0.4915\n",
            "Epoch 21/25\n",
            "50000/50000 [==============================] - 2s 36us/step - loss: 1.1162 - acc: 0.6160 - val_loss: 1.4573 - val_acc: 0.4887\n",
            "Epoch 22/25\n",
            "50000/50000 [==============================] - 2s 36us/step - loss: 1.0975 - acc: 0.6235 - val_loss: 1.4537 - val_acc: 0.4925\n",
            "Epoch 23/25\n",
            "50000/50000 [==============================] - 2s 36us/step - loss: 1.0808 - acc: 0.6300 - val_loss: 1.4597 - val_acc: 0.4859\n",
            "Epoch 24/25\n",
            "50000/50000 [==============================] - 2s 36us/step - loss: 1.0633 - acc: 0.6372 - val_loss: 1.4519 - val_acc: 0.4919\n",
            "Epoch 25/25\n",
            "50000/50000 [==============================] - 2s 36us/step - loss: 1.0456 - acc: 0.6445 - val_loss: 1.4565 - val_acc: 0.4911\n"
          ],
          "name": "stdout"
        }
      ]
    },
    {
      "cell_type": "code",
      "metadata": {
        "id": "DZQqpeqLmcZ5",
        "colab_type": "code",
        "outputId": "512f4fb7-a98f-4bfa-f240-00378393273f",
        "colab": {
          "base_uri": "https://localhost:8080/",
          "height": 809
        }
      },
      "source": [
        "import matplotlib.pyplot as plt\n",
        "%matplotlib inline\n",
        "\n",
        "plt.plot(range(len(train_loss)), train_loss, label=\"train loss\")\n",
        "plt.plot(range(len(valid_loss)), valid_loss, label=\"valid loss\")\n",
        "plt.legend()\n",
        "plt.title(\"Loss\")\n",
        "plt.show()\n",
        "\n",
        "plt.plot(range(len(train_acc)), train_acc, label=\"train accuracy\")\n",
        "plt.plot(range(len(valid_acc)), valid_acc, label=\"valid accuracy\")\n",
        "plt.legend()\n",
        "plt.title(\"Accuracy\")\n",
        "plt.show()\n",
        "\n",
        "plt.plot(range(len(valid_tp)), valid_tp, label=\"valid tp\", color=\"navy\")\n",
        "plt.plot(range(len(valid_tn)), valid_tn, label=\"valid tn\", color=\"red\")\n",
        "plt.legend()\n",
        "plt.title(\"True positives and True Negatives\")\n",
        "plt.show()\n"
      ],
      "execution_count": 0,
      "outputs": [
        {
          "output_type": "display_data",
          "data": {
            "image/png": "[encoded data removed]",
            "text/plain": [
              "<Figure size 432x288 with 1 Axes>"
            ]
          },
          "metadata": {
            "tags": []
          }
        },
        {
          "output_type": "display_data",
          "data": {
            "image/png": "[encoded data removed]",
            "text/plain": [
              "<Figure size 432x288 with 1 Axes>"
            ]
          },
          "metadata": {
            "tags": []
          }
        },
        {
          "output_type": "display_data",
          "data": {
            "image/png": "[encoded data removed]",
            "text/plain": [
              "<Figure size 432x288 with 1 Axes>"
            ]
          },
          "metadata": {
            "tags": []
          }
        }
      ]
    }
  ]
}
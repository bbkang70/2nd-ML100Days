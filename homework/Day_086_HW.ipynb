{
 "cells": [
  {
   "cell_type": "markdown",
   "metadata": {
    "colab_type": "text",
    "id": "wrlCZPUJKYgs"
   },
   "source": [
    "## Work\n",
    "1. 試比較 save_best_only 與否的差異\n",
    "2. 請僅存入將 save_weights_only 設定為 True, 並嘗試 reset ipynb 並將模型與權重重新建回並預測 x_test"
   ]
  },
  {
   "cell_type": "code",
   "execution_count": 0,
   "metadata": {
    "colab": {},
    "colab_type": "code",
    "id": "lDgu8Z_7KYg3"
   },
   "outputs": [],
   "source": [
    "import os\n",
    "import keras\n",
    "\n",
    "# Disable GPU\n",
    "os.environ[\"CUDA_VISIBLE_DEVICES\"] = \"0\""
   ]
  },
  {
   "cell_type": "code",
   "execution_count": 0,
   "metadata": {
    "colab": {
     "base_uri": "https://localhost:8080/",
     "height": 52
    },
    "colab_type": "code",
    "id": "_sg9308wKYhK",
    "outputId": "c10e8aee-055a-4c9e-bac9-fac09da6bbd2"
   },
   "outputs": [
    {
     "name": "stdout",
     "output_type": "stream",
     "text": [
      "Downloading data from https://www.cs.toronto.edu/~kriz/cifar-10-python.tar.gz\n",
      "170500096/170498071 [==============================] - 4s 0us/step\n"
     ]
    }
   ],
   "source": [
    "train, test = keras.datasets.cifar10.load_data()"
   ]
  },
  {
   "cell_type": "code",
   "execution_count": 0,
   "metadata": {
    "colab": {},
    "colab_type": "code",
    "id": "pQMsgT3iKYhX"
   },
   "outputs": [],
   "source": [
    "## 資料前處理\n",
    "def preproc_x(x, flatten=True):\n",
    "    x = x / 255.\n",
    "    if flatten:\n",
    "        x = x.reshape((len(x), -1))\n",
    "    return x\n",
    "\n",
    "def preproc_y(y, num_classes=10):\n",
    "    if y.shape[-1] == 1:\n",
    "        y = keras.utils.to_categorical(y, num_classes)\n",
    "    return y    "
   ]
  },
  {
   "cell_type": "code",
   "execution_count": 0,
   "metadata": {
    "colab": {},
    "colab_type": "code",
    "id": "NRwzxwrRKYhd"
   },
   "outputs": [],
   "source": [
    "x_train, y_train = train\n",
    "x_test, y_test = test\n",
    "\n",
    "# Preproc the inputs\n",
    "x_train = preproc_x(x_train)\n",
    "x_test = preproc_x(x_test)\n",
    "\n",
    "# Preprc the outputs\n",
    "y_train = preproc_y(y_train)\n",
    "y_test = preproc_y(y_test)"
   ]
  },
  {
   "cell_type": "code",
   "execution_count": 0,
   "metadata": {
    "colab": {},
    "colab_type": "code",
    "id": "ypcN8pacKYhp"
   },
   "outputs": [],
   "source": [
    "from keras.layers import BatchNormalization\n",
    "\n",
    "\"\"\"\n",
    "建立神經網路，並加入 BN layer\n",
    "\"\"\"\n",
    "def build_mlp(input_shape, output_units=10, num_neurons=[512, 256, 128]):\n",
    "    input_layer = keras.layers.Input(input_shape)\n",
    "    \n",
    "    for i, n_units in enumerate(num_neurons):\n",
    "        if i == 0:\n",
    "            x = keras.layers.Dense(units=n_units, \n",
    "                                   activation=\"relu\", \n",
    "                                   name=\"hidden_layer\"+str(i+1))(input_layer)\n",
    "            x = BatchNormalization()(x)\n",
    "        else:\n",
    "            x = keras.layers.Dense(units=n_units, \n",
    "                                   activation=\"relu\", \n",
    "                                   name=\"hidden_layer\"+str(i+1))(x)\n",
    "            x = BatchNormalization()(x)\n",
    "    \n",
    "    out = keras.layers.Dense(units=output_units, activation=\"softmax\", name=\"output\")(x)\n",
    "    \n",
    "    model = keras.models.Model(inputs=[input_layer], outputs=[out])\n",
    "    return model"
   ]
  },
  {
   "cell_type": "code",
   "execution_count": 0,
   "metadata": {
    "colab": {},
    "colab_type": "code",
    "id": "hkSws7-bKYhv"
   },
   "outputs": [],
   "source": [
    "\"\"\"Code Here\n",
    "設定超參數\n",
    "\"\"\"\n",
    "LEARNING_RATE = 1e-3\n",
    "EPOCHS = 50\n",
    "BATCH_SIZE = 1024\n",
    "MOMENTUM = 0.95"
   ]
  },
  {
   "cell_type": "code",
   "execution_count": 0,
   "metadata": {
    "colab": {},
    "colab_type": "code",
    "id": "v5xuTdG_KYh6"
   },
   "outputs": [],
   "source": [
    "from keras.callbacks import ModelCheckpoint\n",
    "\n",
    "model_ckpt = ModelCheckpoint(filepath=\"./tmp.h5\", \n",
    "                             monitor=\"val_loss\", \n",
    "                             save_best_only=True)"
   ]
  },
  {
   "cell_type": "code",
   "execution_count": 0,
   "metadata": {
    "colab": {
     "base_uri": "https://localhost:8080/",
     "height": 1000
    },
    "colab_type": "code",
    "id": "biH5Evfvj6Id",
    "outputId": "751a42f4-1522-447d-aa95-0a7cbb273851"
   },
   "outputs": [
    {
     "name": "stderr",
     "output_type": "stream",
     "text": [
      "W0725 10:05:06.052597 140277352249216 deprecation.py:323] From /usr/local/lib/python3.6/dist-packages/tensorflow/python/ops/math_grad.py:1250: add_dispatch_support.<locals>.wrapper (from tensorflow.python.ops.array_ops) is deprecated and will be removed in a future version.\n",
      "Instructions for updating:\n",
      "Use tf.where in 2.0, which has the same broadcast rule as np.where\n"
     ]
    },
    {
     "name": "stdout",
     "output_type": "stream",
     "text": [
      "_________________________________________________________________\n",
      "Layer (type)                 Output Shape              Param #   \n",
      "=================================================================\n",
      "input_2 (InputLayer)         (None, 3072)              0         \n",
      "_________________________________________________________________\n",
      "hidden_layer1 (Dense)        (None, 512)               1573376   \n",
      "_________________________________________________________________\n",
      "batch_normalization_4 (Batch (None, 512)               2048      \n",
      "_________________________________________________________________\n",
      "hidden_layer2 (Dense)        (None, 256)               131328    \n",
      "_________________________________________________________________\n",
      "batch_normalization_5 (Batch (None, 256)               1024      \n",
      "_________________________________________________________________\n",
      "hidden_layer3 (Dense)        (None, 128)               32896     \n",
      "_________________________________________________________________\n",
      "batch_normalization_6 (Batch (None, 128)               512       \n",
      "_________________________________________________________________\n",
      "output (Dense)               (None, 10)                1290      \n",
      "=================================================================\n",
      "Total params: 1,742,474\n",
      "Trainable params: 1,740,682\n",
      "Non-trainable params: 1,792\n",
      "_________________________________________________________________\n",
      "Train on 50000 samples, validate on 10000 samples\n",
      "Epoch 1/50\n",
      "50000/50000 [==============================] - 11s 213us/step - loss: 2.2204 - acc: 0.2679 - val_loss: 2.1246 - val_acc: 0.3172\n",
      "Epoch 2/50\n",
      "50000/50000 [==============================] - 9s 185us/step - loss: 1.7457 - acc: 0.3907 - val_loss: 1.8353 - val_acc: 0.3757\n",
      "Epoch 3/50\n",
      "50000/50000 [==============================] - 9s 185us/step - loss: 1.6161 - acc: 0.4352 - val_loss: 1.7005 - val_acc: 0.4076\n",
      "Epoch 4/50\n",
      "50000/50000 [==============================] - 9s 186us/step - loss: 1.5418 - acc: 0.4603 - val_loss: 1.6297 - val_acc: 0.4278\n",
      "Epoch 5/50\n",
      "50000/50000 [==============================] - 9s 184us/step - loss: 1.4865 - acc: 0.4799 - val_loss: 1.6249 - val_acc: 0.4351\n",
      "Epoch 6/50\n",
      "50000/50000 [==============================] - 9s 185us/step - loss: 1.4413 - acc: 0.4951 - val_loss: 1.5691 - val_acc: 0.4536\n",
      "Epoch 7/50\n",
      "50000/50000 [==============================] - 9s 185us/step - loss: 1.4018 - acc: 0.5109 - val_loss: 1.5524 - val_acc: 0.4646\n",
      "Epoch 8/50\n",
      "50000/50000 [==============================] - 9s 187us/step - loss: 1.3649 - acc: 0.5232 - val_loss: 1.5405 - val_acc: 0.4610\n",
      "Epoch 9/50\n",
      "50000/50000 [==============================] - 9s 186us/step - loss: 1.3337 - acc: 0.5358 - val_loss: 1.5178 - val_acc: 0.4671\n",
      "Epoch 10/50\n",
      "50000/50000 [==============================] - 9s 189us/step - loss: 1.3040 - acc: 0.5458 - val_loss: 1.4970 - val_acc: 0.4770\n",
      "Epoch 11/50\n",
      "50000/50000 [==============================] - 9s 186us/step - loss: 1.2745 - acc: 0.5570 - val_loss: 1.4837 - val_acc: 0.4808\n",
      "Epoch 12/50\n",
      "50000/50000 [==============================] - 9s 186us/step - loss: 1.2470 - acc: 0.5686 - val_loss: 1.4871 - val_acc: 0.4739\n",
      "Epoch 13/50\n",
      "50000/50000 [==============================] - 9s 186us/step - loss: 1.2228 - acc: 0.5763 - val_loss: 1.4819 - val_acc: 0.4813\n",
      "Epoch 14/50\n",
      "50000/50000 [==============================] - 9s 187us/step - loss: 1.1977 - acc: 0.5864 - val_loss: 1.4724 - val_acc: 0.4812\n",
      "Epoch 15/50\n",
      "50000/50000 [==============================] - 9s 186us/step - loss: 1.1759 - acc: 0.5956 - val_loss: 1.4777 - val_acc: 0.4851\n",
      "Epoch 16/50\n",
      "50000/50000 [==============================] - 9s 186us/step - loss: 1.1497 - acc: 0.6060 - val_loss: 1.4704 - val_acc: 0.4822\n",
      "Epoch 17/50\n",
      "50000/50000 [==============================] - 9s 186us/step - loss: 1.1283 - acc: 0.6135 - val_loss: 1.4545 - val_acc: 0.4890\n",
      "Epoch 18/50\n",
      "50000/50000 [==============================] - 9s 187us/step - loss: 1.1050 - acc: 0.6213 - val_loss: 1.4569 - val_acc: 0.4896\n",
      "Epoch 19/50\n",
      "50000/50000 [==============================] - 9s 186us/step - loss: 1.0836 - acc: 0.6313 - val_loss: 1.4558 - val_acc: 0.4873\n",
      "Epoch 20/50\n",
      "50000/50000 [==============================] - 9s 185us/step - loss: 1.0618 - acc: 0.6379 - val_loss: 1.4687 - val_acc: 0.4843\n",
      "Epoch 21/50\n",
      "50000/50000 [==============================] - 9s 185us/step - loss: 1.0411 - acc: 0.6456 - val_loss: 1.4523 - val_acc: 0.4897\n",
      "Epoch 22/50\n",
      "50000/50000 [==============================] - 9s 185us/step - loss: 1.0204 - acc: 0.6549 - val_loss: 1.4529 - val_acc: 0.4867\n",
      "Epoch 23/50\n",
      "50000/50000 [==============================] - 9s 184us/step - loss: 0.9979 - acc: 0.6643 - val_loss: 1.4655 - val_acc: 0.4930\n",
      "Epoch 24/50\n",
      "50000/50000 [==============================] - 9s 185us/step - loss: 0.9768 - acc: 0.6719 - val_loss: 1.4617 - val_acc: 0.4943\n",
      "Epoch 25/50\n",
      "50000/50000 [==============================] - 9s 184us/step - loss: 0.9558 - acc: 0.6806 - val_loss: 1.4493 - val_acc: 0.4986\n",
      "Epoch 26/50\n",
      "50000/50000 [==============================] - 9s 184us/step - loss: 0.9373 - acc: 0.6872 - val_loss: 1.4508 - val_acc: 0.4972\n",
      "Epoch 27/50\n",
      "50000/50000 [==============================] - 9s 185us/step - loss: 0.9159 - acc: 0.6960 - val_loss: 1.4540 - val_acc: 0.4983\n",
      "Epoch 28/50\n",
      "50000/50000 [==============================] - 9s 185us/step - loss: 0.8956 - acc: 0.7031 - val_loss: 1.4690 - val_acc: 0.4958\n",
      "Epoch 29/50\n",
      "50000/50000 [==============================] - 9s 186us/step - loss: 0.8751 - acc: 0.7104 - val_loss: 1.4671 - val_acc: 0.4951\n",
      "Epoch 30/50\n",
      "50000/50000 [==============================] - 9s 186us/step - loss: 0.8563 - acc: 0.7193 - val_loss: 1.4805 - val_acc: 0.4909\n",
      "Epoch 31/50\n",
      "50000/50000 [==============================] - 9s 186us/step - loss: 0.8372 - acc: 0.7267 - val_loss: 1.4777 - val_acc: 0.4995\n",
      "Epoch 32/50\n",
      "50000/50000 [==============================] - 9s 186us/step - loss: 0.8176 - acc: 0.7341 - val_loss: 1.5113 - val_acc: 0.4901\n",
      "Epoch 33/50\n",
      "50000/50000 [==============================] - 9s 187us/step - loss: 0.7996 - acc: 0.7404 - val_loss: 1.4977 - val_acc: 0.4920\n",
      "Epoch 34/50\n",
      "50000/50000 [==============================] - 9s 187us/step - loss: 0.7774 - acc: 0.7510 - val_loss: 1.5015 - val_acc: 0.4951\n",
      "Epoch 35/50\n",
      "50000/50000 [==============================] - 9s 187us/step - loss: 0.7618 - acc: 0.7555 - val_loss: 1.5201 - val_acc: 0.4883\n",
      "Epoch 36/50\n",
      "50000/50000 [==============================] - 9s 188us/step - loss: 0.7425 - acc: 0.7624 - val_loss: 1.5048 - val_acc: 0.4953\n",
      "Epoch 37/50\n",
      "50000/50000 [==============================] - 9s 185us/step - loss: 0.7217 - acc: 0.7704 - val_loss: 1.5304 - val_acc: 0.4970\n",
      "Epoch 38/50\n",
      "50000/50000 [==============================] - 9s 184us/step - loss: 0.7031 - acc: 0.7781 - val_loss: 1.5405 - val_acc: 0.4872\n",
      "Epoch 39/50\n",
      "50000/50000 [==============================] - 9s 184us/step - loss: 0.6853 - acc: 0.7858 - val_loss: 1.5536 - val_acc: 0.4878\n",
      "Epoch 40/50\n",
      "50000/50000 [==============================] - 9s 184us/step - loss: 0.6658 - acc: 0.7926 - val_loss: 1.5510 - val_acc: 0.4965\n",
      "Epoch 41/50\n",
      "50000/50000 [==============================] - 9s 185us/step - loss: 0.6461 - acc: 0.8018 - val_loss: 1.5704 - val_acc: 0.4870\n",
      "Epoch 42/50\n",
      "50000/50000 [==============================] - 9s 186us/step - loss: 0.6292 - acc: 0.8089 - val_loss: 1.5805 - val_acc: 0.4890\n",
      "Epoch 43/50\n",
      "50000/50000 [==============================] - 9s 186us/step - loss: 0.6111 - acc: 0.8151 - val_loss: 1.5858 - val_acc: 0.4929\n",
      "Epoch 44/50\n",
      "50000/50000 [==============================] - 9s 184us/step - loss: 0.5950 - acc: 0.8216 - val_loss: 1.5952 - val_acc: 0.4891\n",
      "Epoch 45/50\n",
      "50000/50000 [==============================] - 9s 186us/step - loss: 0.5763 - acc: 0.8291 - val_loss: 1.6042 - val_acc: 0.4922\n",
      "Epoch 46/50\n",
      "50000/50000 [==============================] - 9s 185us/step - loss: 0.5582 - acc: 0.8369 - val_loss: 1.6390 - val_acc: 0.4785\n",
      "Epoch 47/50\n",
      "50000/50000 [==============================] - 9s 186us/step - loss: 0.5427 - acc: 0.8417 - val_loss: 1.6673 - val_acc: 0.4839\n",
      "Epoch 48/50\n",
      "50000/50000 [==============================] - 9s 185us/step - loss: 0.5237 - acc: 0.8488 - val_loss: 1.6553 - val_acc: 0.4898\n",
      "Epoch 49/50\n",
      "50000/50000 [==============================] - 9s 185us/step - loss: 0.5066 - acc: 0.8570 - val_loss: 1.6708 - val_acc: 0.4890\n",
      "Epoch 50/50\n",
      "50000/50000 [==============================] - 9s 185us/step - loss: 0.4912 - acc: 0.8633 - val_loss: 1.6994 - val_acc: 0.4837\n",
      "10000/10000 [==============================] - 2s 168us/step\n"
     ]
    }
   ],
   "source": [
    "model = build_mlp(input_shape=x_train.shape[1:])\n",
    "model.summary()\n",
    "optimizer = keras.optimizers.SGD(lr=LEARNING_RATE, nesterov=True, momentum=MOMENTUM)\n",
    "model.compile(loss=\"categorical_crossentropy\", metrics=[\"accuracy\"], optimizer=optimizer)\n",
    "\n",
    "model.fit(x_train, y_train, \n",
    "          epochs=EPOCHS, \n",
    "          batch_size=BATCH_SIZE, \n",
    "          validation_data=(x_test, y_test), \n",
    "          shuffle=True,\n",
    "          callbacks=[model_ckpt]\n",
    "         )\n",
    "\n",
    "model.save(\"final_model.h5\")\n",
    "model.save_weights(\"model_weights.h5\")\n",
    "\n",
    "# Collect results\n",
    "train_loss = model.history.history[\"loss\"]\n",
    "valid_loss = model.history.history[\"val_loss\"]\n",
    "train_acc = model.history.history[\"acc\"]\n",
    "valid_acc = model.history.history[\"val_acc\"]\n",
    "\n",
    "# Load back\n",
    "model = keras.models.load_model(\"./tmp.h5\")\n",
    "loss_loadback, acc_loadback = model.evaluate(x_test, y_test)"
   ]
  },
  {
   "cell_type": "code",
   "execution_count": 0,
   "metadata": {
    "colab": {
     "base_uri": "https://localhost:8080/",
     "height": 545
    },
    "colab_type": "code",
    "id": "IfVUs9NxKYiA",
    "outputId": "0b57e9ba-d26e-44df-84e2-7b3df95b5e1a",
    "scrolled": true
   },
   "outputs": [
    {
     "data": {
      "image/png": "[encoded data removed]",
      "text/plain": [
       "<Figure size 432x288 with 1 Axes>"
      ]
     },
     "metadata": {
      "tags": []
     },
     "output_type": "display_data"
    },
    {
     "data": {
      "image/png": "[encoded data removed]",
      "text/plain": [
       "<Figure size 432x288 with 1 Axes>"
      ]
     },
     "metadata": {
      "tags": []
     },
     "output_type": "display_data"
    }
   ],
   "source": [
    "import matplotlib.pyplot as plt\n",
    "%matplotlib inline\n",
    "\n",
    "plt.plot(range(len(train_loss)), train_loss, label=\"train loss\")\n",
    "plt.plot(range(len(valid_loss)), valid_loss, label=\"valid loss\")\n",
    "plt.hlines(y=loss_loadback, xmin=0, xmax=len(train_loss), colors='r', linestyles='--')\n",
    "plt.legend()\n",
    "plt.title(\"Loss\")\n",
    "plt.show()\n",
    "\n",
    "plt.plot(range(len(train_acc)), train_acc, label=\"train accuracy\")\n",
    "plt.plot(range(len(valid_acc)), valid_acc, label=\"valid accuracy\")\n",
    "plt.hlines(y=acc_loadback, xmin=0, xmax=len(train_loss), colors='r', linestyles='--')\n",
    "plt.legend()\n",
    "plt.title(\"Accuracy\")\n",
    "plt.show()"
   ]
  },
  {
   "cell_type": "code",
   "execution_count": 0,
   "metadata": {
    "colab": {},
    "colab_type": "code",
    "id": "xZsBRJc0pCYQ"
   },
   "outputs": [],
   "source": [
    "model_ckpt = ModelCheckpoint(filepath=\"./tmp.h5\", \n",
    "                             monitor=\"val_loss\", \n",
    "                             save_weights_only=True)"
   ]
  },
  {
   "cell_type": "code",
   "execution_count": 0,
   "metadata": {
    "colab": {},
    "colab_type": "code",
    "id": "2Wv3DqNqo9kz"
   },
   "outputs": [],
   "source": [
    "new_model = build_mlp(input_shape=x_train.shape[1:])"
   ]
  },
  {
   "cell_type": "code",
   "execution_count": 0,
   "metadata": {
    "colab": {
     "base_uri": "https://localhost:8080/",
     "height": 1000
    },
    "colab_type": "code",
    "id": "zQA-6rhIpZQn",
    "outputId": "c6170475-200a-4fa5-90b7-36fd7a9c794f"
   },
   "outputs": [
    {
     "name": "stdout",
     "output_type": "stream",
     "text": [
      "Train on 50000 samples, validate on 10000 samples\n",
      "Epoch 1/50\n",
      "50000/50000 [==============================] - 11s 219us/step - loss: 0.1746 - acc: 0.9760 - val_loss: 2.0919 - val_acc: 0.4812\n",
      "Epoch 2/50\n",
      "50000/50000 [==============================] - 9s 186us/step - loss: 0.1712 - acc: 0.9759 - val_loss: 2.0942 - val_acc: 0.4796\n",
      "Epoch 3/50\n",
      "50000/50000 [==============================] - 9s 186us/step - loss: 0.1636 - acc: 0.9785 - val_loss: 2.1316 - val_acc: 0.4759\n",
      "Epoch 4/50\n",
      "50000/50000 [==============================] - 9s 187us/step - loss: 0.1568 - acc: 0.9814 - val_loss: 2.1415 - val_acc: 0.4794\n",
      "Epoch 5/50\n",
      "50000/50000 [==============================] - 9s 186us/step - loss: 0.1507 - acc: 0.9819 - val_loss: 2.1689 - val_acc: 0.4813\n",
      "Epoch 6/50\n",
      "50000/50000 [==============================] - 9s 185us/step - loss: 0.1432 - acc: 0.9837 - val_loss: 2.1801 - val_acc: 0.4746\n",
      "Epoch 7/50\n",
      "50000/50000 [==============================] - 9s 185us/step - loss: 0.1373 - acc: 0.9848 - val_loss: 2.1941 - val_acc: 0.4823\n",
      "Epoch 8/50\n",
      "50000/50000 [==============================] - 9s 185us/step - loss: 0.1320 - acc: 0.9870 - val_loss: 2.2236 - val_acc: 0.4766\n",
      "Epoch 9/50\n",
      "50000/50000 [==============================] - 9s 188us/step - loss: 0.1263 - acc: 0.9876 - val_loss: 2.2344 - val_acc: 0.4791\n",
      "Epoch 10/50\n",
      "50000/50000 [==============================] - 9s 185us/step - loss: 0.1205 - acc: 0.9885 - val_loss: 2.2553 - val_acc: 0.4769\n",
      "Epoch 11/50\n",
      "50000/50000 [==============================] - 9s 186us/step - loss: 0.1166 - acc: 0.9891 - val_loss: 2.2442 - val_acc: 0.4760\n",
      "Epoch 12/50\n",
      "50000/50000 [==============================] - 9s 186us/step - loss: 0.1121 - acc: 0.9909 - val_loss: 2.2748 - val_acc: 0.4705\n",
      "Epoch 13/50\n",
      "50000/50000 [==============================] - 9s 186us/step - loss: 0.1066 - acc: 0.9909 - val_loss: 2.2850 - val_acc: 0.4807\n",
      "Epoch 14/50\n",
      "50000/50000 [==============================] - 9s 185us/step - loss: 0.1019 - acc: 0.9921 - val_loss: 2.2863 - val_acc: 0.4772\n",
      "Epoch 15/50\n",
      "50000/50000 [==============================] - 9s 185us/step - loss: 0.0989 - acc: 0.9927 - val_loss: 2.3253 - val_acc: 0.4743\n",
      "Epoch 16/50\n",
      "50000/50000 [==============================] - 9s 186us/step - loss: 0.0934 - acc: 0.9939 - val_loss: 2.3189 - val_acc: 0.4760\n",
      "Epoch 17/50\n",
      "50000/50000 [==============================] - 9s 185us/step - loss: 0.0894 - acc: 0.9946 - val_loss: 2.3670 - val_acc: 0.4774\n",
      "Epoch 18/50\n",
      "50000/50000 [==============================] - 9s 185us/step - loss: 0.0864 - acc: 0.9950 - val_loss: 2.3487 - val_acc: 0.4746\n",
      "Epoch 19/50\n",
      "50000/50000 [==============================] - 9s 185us/step - loss: 0.0823 - acc: 0.9955 - val_loss: 2.3645 - val_acc: 0.4760\n",
      "Epoch 20/50\n",
      "50000/50000 [==============================] - 9s 186us/step - loss: 0.0796 - acc: 0.9962 - val_loss: 2.3946 - val_acc: 0.4735\n",
      "Epoch 21/50\n",
      "50000/50000 [==============================] - 9s 186us/step - loss: 0.0760 - acc: 0.9960 - val_loss: 2.4135 - val_acc: 0.4749\n",
      "Epoch 22/50\n",
      "50000/50000 [==============================] - 9s 185us/step - loss: 0.0739 - acc: 0.9963 - val_loss: 2.4057 - val_acc: 0.4751\n",
      "Epoch 23/50\n",
      "50000/50000 [==============================] - 9s 186us/step - loss: 0.0707 - acc: 0.9969 - val_loss: 2.4253 - val_acc: 0.4711\n",
      "Epoch 24/50\n",
      "50000/50000 [==============================] - 9s 186us/step - loss: 0.0680 - acc: 0.9972 - val_loss: 2.4577 - val_acc: 0.4716\n",
      "Epoch 25/50\n",
      "50000/50000 [==============================] - 9s 187us/step - loss: 0.0645 - acc: 0.9979 - val_loss: 2.4429 - val_acc: 0.4767\n",
      "Epoch 26/50\n",
      "50000/50000 [==============================] - 9s 187us/step - loss: 0.0626 - acc: 0.9977 - val_loss: 2.4505 - val_acc: 0.4769\n",
      "Epoch 27/50\n",
      "50000/50000 [==============================] - 9s 188us/step - loss: 0.0613 - acc: 0.9977 - val_loss: 2.4840 - val_acc: 0.4740\n",
      "Epoch 28/50\n",
      "50000/50000 [==============================] - 9s 188us/step - loss: 0.0581 - acc: 0.9983 - val_loss: 2.4936 - val_acc: 0.4731\n",
      "Epoch 29/50\n",
      "50000/50000 [==============================] - 9s 189us/step - loss: 0.0559 - acc: 0.9985 - val_loss: 2.5213 - val_acc: 0.4731\n",
      "Epoch 30/50\n",
      "50000/50000 [==============================] - 9s 188us/step - loss: 0.0543 - acc: 0.9985 - val_loss: 2.4957 - val_acc: 0.4725\n",
      "Epoch 31/50\n",
      "50000/50000 [==============================] - 9s 186us/step - loss: 0.0519 - acc: 0.9988 - val_loss: 2.5005 - val_acc: 0.4736\n",
      "Epoch 32/50\n",
      "50000/50000 [==============================] - 9s 189us/step - loss: 0.0502 - acc: 0.9988 - val_loss: 2.5533 - val_acc: 0.4758\n",
      "Epoch 33/50\n",
      "50000/50000 [==============================] - 9s 188us/step - loss: 0.0484 - acc: 0.9990 - val_loss: 2.5354 - val_acc: 0.4775\n",
      "Epoch 34/50\n",
      "50000/50000 [==============================] - 9s 190us/step - loss: 0.0473 - acc: 0.9990 - val_loss: 2.5667 - val_acc: 0.4753\n",
      "Epoch 35/50\n",
      "50000/50000 [==============================] - 9s 189us/step - loss: 0.0461 - acc: 0.9988 - val_loss: 2.5590 - val_acc: 0.4770\n",
      "Epoch 36/50\n",
      "50000/50000 [==============================] - 9s 187us/step - loss: 0.0441 - acc: 0.9991 - val_loss: 2.5869 - val_acc: 0.4784\n",
      "Epoch 37/50\n",
      "50000/50000 [==============================] - 9s 189us/step - loss: 0.0426 - acc: 0.9994 - val_loss: 2.5995 - val_acc: 0.4740\n",
      "Epoch 38/50\n",
      "50000/50000 [==============================] - 9s 188us/step - loss: 0.0416 - acc: 0.9993 - val_loss: 2.5925 - val_acc: 0.4753\n",
      "Epoch 39/50\n",
      "50000/50000 [==============================] - 10s 193us/step - loss: 0.0404 - acc: 0.9994 - val_loss: 2.6165 - val_acc: 0.4733\n",
      "Epoch 40/50\n",
      "50000/50000 [==============================] - 10s 192us/step - loss: 0.0393 - acc: 0.9994 - val_loss: 2.6327 - val_acc: 0.4745\n",
      "Epoch 41/50\n",
      "50000/50000 [==============================] - 9s 189us/step - loss: 0.0375 - acc: 0.9995 - val_loss: 2.6186 - val_acc: 0.4771\n",
      "Epoch 42/50\n",
      "50000/50000 [==============================] - 10s 193us/step - loss: 0.0370 - acc: 0.9996 - val_loss: 2.6210 - val_acc: 0.4773\n",
      "Epoch 43/50\n",
      "50000/50000 [==============================] - 9s 189us/step - loss: 0.0358 - acc: 0.9995 - val_loss: 2.6413 - val_acc: 0.4767\n",
      "Epoch 44/50\n",
      "50000/50000 [==============================] - 9s 189us/step - loss: 0.0345 - acc: 0.9995 - val_loss: 2.6524 - val_acc: 0.4763\n",
      "Epoch 45/50\n",
      "50000/50000 [==============================] - 9s 189us/step - loss: 0.0336 - acc: 0.9996 - val_loss: 2.6717 - val_acc: 0.4744\n",
      "Epoch 46/50\n",
      "50000/50000 [==============================] - 10s 190us/step - loss: 0.0327 - acc: 0.9998 - val_loss: 2.6934 - val_acc: 0.4758\n",
      "Epoch 47/50\n",
      "50000/50000 [==============================] - 9s 189us/step - loss: 0.0318 - acc: 0.9997 - val_loss: 2.6714 - val_acc: 0.4746\n",
      "Epoch 48/50\n",
      "50000/50000 [==============================] - 9s 190us/step - loss: 0.0308 - acc: 0.9999 - val_loss: 2.6813 - val_acc: 0.4766\n",
      "Epoch 49/50\n",
      "50000/50000 [==============================] - 9s 188us/step - loss: 0.0302 - acc: 0.9997 - val_loss: 2.6901 - val_acc: 0.4729\n",
      "Epoch 50/50\n",
      "50000/50000 [==============================] - 9s 189us/step - loss: 0.0293 - acc: 0.9998 - val_loss: 2.7019 - val_acc: 0.4778\n"
     ]
    }
   ],
   "source": [
    "optimizer = keras.optimizers.SGD(lr=LEARNING_RATE, nesterov=True, momentum=MOMENTUM)\n",
    "model.compile(loss=\"categorical_crossentropy\", metrics=[\"accuracy\"], optimizer=optimizer)\n",
    "\n",
    "model.fit(x_train, y_train, \n",
    "          epochs=EPOCHS, \n",
    "          batch_size=BATCH_SIZE, \n",
    "          validation_data=(x_test, y_test), \n",
    "          shuffle=True,\n",
    "          callbacks=[model_ckpt]\n",
    "         )\n",
    "\n",
    "# Collect results\n",
    "train_loss = model.history.history[\"loss\"]\n",
    "valid_loss = model.history.history[\"val_loss\"]\n",
    "train_acc = model.history.history[\"acc\"]\n",
    "valid_acc = model.history.history[\"val_acc\"]\n"
   ]
  },
  {
   "cell_type": "code",
   "execution_count": 0,
   "metadata": {
    "colab": {
     "base_uri": "https://localhost:8080/",
     "height": 545
    },
    "colab_type": "code",
    "id": "KnW7GDkuptUC",
    "outputId": "d28da295-1c88-43a2-ae6e-6878e4826443"
   },
   "outputs": [
    {
     "data": {
      "image/png": "[encoded data removed]",
      "text/plain": [
       "<Figure size 432x288 with 1 Axes>"
      ]
     },
     "metadata": {
      "tags": []
     },
     "output_type": "display_data"
    },
    {
     "data": {
      "image/png": "[encoded data removed]",
      "text/plain": [
       "<Figure size 432x288 with 1 Axes>"
      ]
     },
     "metadata": {
      "tags": []
     },
     "output_type": "display_data"
    }
   ],
   "source": [
    "plt.plot(range(len(train_loss)), train_loss, label=\"train loss\")\n",
    "plt.plot(range(len(valid_loss)), valid_loss, label=\"valid loss\")\n",
    "plt.hlines(y=loss_loadback, xmin=0, xmax=len(train_loss), colors='r', linestyles='--')\n",
    "plt.legend()\n",
    "plt.title(\"Loss\")\n",
    "plt.show()\n",
    "\n",
    "plt.plot(range(len(train_acc)), train_acc, label=\"train accuracy\")\n",
    "plt.plot(range(len(valid_acc)), valid_acc, label=\"valid accuracy\")\n",
    "plt.hlines(y=acc_loadback, xmin=0, xmax=len(train_loss), colors='r', linestyles='--')\n",
    "plt.legend()\n",
    "plt.title(\"Accuracy\")\n",
    "plt.show()"
   ]
  }
 ],
 "metadata": {
  "colab": {
   "name": "Day086_HW.ipynb",
   "provenance": [],
   "version": "0.3.2"
  },
  "kernelspec": {
   "display_name": "Python 3",
   "language": "python",
   "name": "python3"
  },
  "language_info": {
   "codemirror_mode": {
    "name": "ipython",
    "version": 3
   },
   "file_extension": ".py",
   "mimetype": "text/x-python",
   "name": "python",
   "nbconvert_exporter": "python",
   "pygments_lexer": "ipython3",
   "version": "3.7.3"
  }
 },
 "nbformat": 4,
 "nbformat_minor": 1
}
